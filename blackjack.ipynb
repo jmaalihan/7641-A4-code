{
 "cells": [
  {
   "cell_type": "code",
   "execution_count": 1,
   "id": "b2a616d1",
   "metadata": {},
   "outputs": [],
   "source": [
    "import gymnasium as gym\n",
    "from bettermdptools.utils.blackjack_wrapper import BlackjackWrapper\n",
    "from bettermdptools.utils.test_env import TestEnv\n",
    "from bettermdptools.algorithms.planner import Planner\n",
    "from bettermdptools.utils.grid_search import GridSearch\n",
    "from bettermdptools.algorithms.rl import RL\n",
    "import numpy as np\n",
    "import matplotlib.pyplot as plt"
   ]
  },
  {
   "cell_type": "code",
   "execution_count": 4,
   "id": "d5e90c8c",
   "metadata": {},
   "outputs": [],
   "source": [
    "# help funcs\n",
    "\n",
    "def iter_count(V_track, theta): # computes iterations to convergence\n",
    "    index = 0\n",
    "    max_diff = theta+1\n",
    "    while (max_diff > theta):\n",
    "        if (index == (len(V_track)-1)):\n",
    "            print(\"reached iter cap\")\n",
    "            return\n",
    "        v1 = V_track[index]\n",
    "        v2 = V_track[index+1]\n",
    "        max_diff = max([np.abs(v1[i]-v2[i]) for i in range(len(v1))])\n",
    "        index += 1\n",
    "    print(\"converged in\", index, \"iterations\")\n",
    "    return index\n",
    "\n",
    "\n",
    "def diff_arr(V_track):\n",
    "    diffs = []\n",
    "    for i in range(len(V_track)-1):\n",
    "        v1 = V_track[i]\n",
    "        v2 = V_track[i+1]\n",
    "        diff = max(abs(v1-v2))\n",
    "        \n",
    "        if (not np.any(v2)): # all zeroes\n",
    "            break\n",
    "        else:\n",
    "            diffs.append(diff)\n",
    "    return diffs\n",
    "\n",
    "def q_diff(Q_track):\n",
    "    diffs = []\n",
    "    for ep in range(len(Q_track)-1):\n",
    "        v1 = np.matrix(Q_track[ep])\n",
    "        v2 = np.matrix(Q_track[ep+1])\n",
    "        diff = np.max(np.abs(v1-v2))\n",
    "        diffs.append(diff)\n",
    "    return diffs\n",
    "\n",
    "def risk_factor(pi):\n",
    "    return sum(pi.values())/(len(pi))\n",
    "\n",
    "def hit_count(pi):\n",
    "    return sum(pi.values())\n",
    "\n",
    "def pi_diff(pi1, pi2):\n",
    "    set1 = set(pi1.items())\n",
    "    set2 = set(pi2.items())\n",
    "    print(set1 ^ set2)\n",
    "    "
   ]
  },
  {
   "cell_type": "code",
   "execution_count": 3,
   "id": "a00f6ecc",
   "metadata": {},
   "outputs": [],
   "source": [
    "base_env = gym.make('Blackjack-v1', render_mode=None)\n",
    "blackjack = BlackjackWrapper(base_env)"
   ]
  },
  {
   "cell_type": "code",
   "execution_count": 12,
   "id": "4e572a56",
   "metadata": {},
   "outputs": [
    {
     "data": {
      "image/png": "[encoded data removed]",
      "text/plain": [
       "<Figure size 640x480 with 1 Axes>"
      ]
     },
     "metadata": {},
     "output_type": "display_data"
    }
   ],
   "source": [
    "fig, ax = plt.subplots()\n",
    "\n",
    "algs = [\"VI\", \"PI\"]\n",
    "counts = [11,5]\n",
    "bar_colors = ['tab:red', 'tab:blue']\n",
    "\n",
    "ax.bar(algs, counts, color=bar_colors)\n",
    "\n",
    "ax.set_ylabel('iters')\n",
    "ax.set_title('Blackjack iters to convergence')\n",
    "\n",
    "plt.show()"
   ]
  },
  {
   "cell_type": "code",
   "execution_count": 5,
   "id": "5ccd8361",
   "metadata": {},
   "outputs": [
    {
     "name": "stdout",
     "output_type": "stream",
     "text": [
      "runtime = 0.02 seconds\n"
     ]
    },
    {
     "name": "stderr",
     "output_type": "stream",
     "text": [
      "C:\\Users\\jmaal\\anaconda3\\Lib\\site-packages\\gymnasium\\utils\\passive_env_checker.py:233: DeprecationWarning: `np.bool8` is a deprecated alias for `np.bool_`.  (Deprecated NumPy 1.24)\n",
      "  if not isinstance(terminated, (bool, np.bool8)):\n"
     ]
    },
    {
     "name": "stdout",
     "output_type": "stream",
     "text": [
      "VI mean scores: -0.035\n",
      "hit count: 170\n"
     ]
    }
   ],
   "source": [
    "## Value Iteration ##\n",
    "\n",
    "V, V_track_vi, pi_vi = Planner(blackjack.P).value_iteration(n_iters=100, theta=1e-10, gamma=1.0)\n",
    "\n",
    "#test policy\n",
    "test_scores = TestEnv.test_env(env=blackjack, n_iters=10000, render=False, pi=pi_vi, user_input=False)\n",
    "print(\"VI mean scores:\", np.mean(test_scores))\n",
    "print(\"hit count:\", hit_count(pi_vi))"
   ]
  },
  {
   "cell_type": "code",
   "execution_count": 7,
   "id": "d88aae65",
   "metadata": {},
   "outputs": [
    {
     "name": "stdout",
     "output_type": "stream",
     "text": [
      "converged in 11 iterations\n"
     ]
    },
    {
     "data": {
      "text/plain": [
       "11"
      ]
     },
     "execution_count": 7,
     "metadata": {},
     "output_type": "execute_result"
    }
   ],
   "source": [
    "iter_count(V_track_vi, 10e-10)"
   ]
  },
  {
   "cell_type": "code",
   "execution_count": 10,
   "id": "9773a3c3",
   "metadata": {},
   "outputs": [
    {
     "name": "stdout",
     "output_type": "stream",
     "text": [
      "runtime = 0.04 seconds\n",
      "PI mean scores: -0.0465\n",
      "hit count: 170\n"
     ]
    }
   ],
   "source": [
    "## Policy Iteration ##\n",
    "V, V_track_pi, pi_pi = Planner(blackjack.P).policy_iteration(n_iters=100, theta=1e-10)\n",
    "\n",
    "#test policy\n",
    "test_scores = TestEnv.test_env(env=blackjack, n_iters=10000, render=False, pi=pi_pi, user_input=False)\n",
    "print(\"PI mean scores:\", np.mean(test_scores))\n",
    "print(\"hit count:\", hit_count(pi_pi))"
   ]
  },
  {
   "cell_type": "code",
   "execution_count": 11,
   "id": "ec22d079",
   "metadata": {},
   "outputs": [
    {
     "name": "stdout",
     "output_type": "stream",
     "text": [
      "converged in 5 iterations\n"
     ]
    },
    {
     "data": {
      "text/plain": [
       "5"
      ]
     },
     "execution_count": 11,
     "metadata": {},
     "output_type": "execute_result"
    }
   ],
   "source": [
    "iter_count(V_track_pi, 10e-10)"
   ]
  },
  {
   "cell_type": "code",
   "execution_count": 19,
   "id": "5467532c",
   "metadata": {},
   "outputs": [
    {
     "data": {
      "text/plain": [
       "<matplotlib.legend.Legend at 0x1524352f2d0>"
      ]
     },
     "execution_count": 19,
     "metadata": {},
     "output_type": "execute_result"
    },
    {
     "data": {
      "image/png": "[encoded data removed]",
      "text/plain": [
       "<Figure size 640x480 with 1 Axes>"
      ]
     },
     "metadata": {},
     "output_type": "display_data"
    }
   ],
   "source": [
    "diffs_vi = diff_arr(V_track_vi)\n",
    "diffs_pi = diff_arr(V_track_pi)\n",
    "\n",
    "fig, ax = plt.subplots()\n",
    "ax.set_title(\"Training difference curves VI and PI\")\n",
    "ax.set_ylabel(\"max diff\")\n",
    "ax.set_xlabel(\"n iters\")\n",
    "ax.plot(diffs_vi,marker=\"o\")\n",
    "ax.plot(diffs_pi,marker=\"o\")\n",
    "ax.legend([\"VI\", \"PI\"],loc=\"upper right\")"
   ]
  },
  {
   "cell_type": "code",
   "execution_count": 13,
   "id": "ebe4e044",
   "metadata": {},
   "outputs": [
    {
     "name": "stderr",
     "output_type": "stream",
     "text": [
      "                                                                                                                      \r"
     ]
    },
    {
     "name": "stdout",
     "output_type": "stream",
     "text": [
      "runtime = 9.90 seconds\n",
      "q learning mean scores: -0.0345\n",
      "hit count: 182\n"
     ]
    }
   ],
   "source": [
    "## Q-learning ##\n",
    "Q, V, pi_q, Q_track, pi_track = RL(blackjack).q_learning(\n",
    "    gamma=.99, init_alpha=0.5, min_alpha=0.001, alpha_decay_ratio=0.9, \n",
    "    init_epsilon=1.0, min_epsilon=0.01, epsilon_decay_ratio=0.99, n_episodes=100000)\n",
    "\n",
    "#test policy\n",
    "test_scores = TestEnv.test_env(env=blackjack, n_iters=10000, render=False, pi=pi_q, user_input=False)\n",
    "print(\"q learning mean scores:\", np.mean(test_scores))\n",
    "print(\"hit count:\", hit_count(pi_q))"
   ]
  },
  {
   "cell_type": "code",
   "execution_count": 4,
   "id": "1e87161c",
   "metadata": {},
   "outputs": [
    {
     "name": "stderr",
     "output_type": "stream",
     "text": [
      "  0%|                                                                                          | 0/10 [00:00<?, ?it/s]C:\\Users\\jmaal\\anaconda3\\Lib\\site-packages\\gymnasium\\utils\\passive_env_checker.py:233: DeprecationWarning: `np.bool8` is a deprecated alias for `np.bool_`.  (Deprecated NumPy 1.24)\n",
      "  if not isinstance(terminated, (bool, np.bool8)):\n",
      "                                                                                                                      \r"
     ]
    },
    {
     "name": "stdout",
     "output_type": "stream",
     "text": [
      "runtime = 0.04 seconds\n",
      "q learning mean scores: -0.2041\n",
      "hit count: 4\n"
     ]
    },
    {
     "name": "stderr",
     "output_type": "stream",
     "text": [
      "                                                                                                                      "
     ]
    },
    {
     "name": "stdout",
     "output_type": "stream",
     "text": [
      "runtime = 0.01 seconds\n"
     ]
    },
    {
     "name": "stderr",
     "output_type": "stream",
     "text": [
      "\r"
     ]
    },
    {
     "name": "stdout",
     "output_type": "stream",
     "text": [
      "q learning mean scores: -0.1601\n",
      "hit count: 30\n"
     ]
    },
    {
     "name": "stderr",
     "output_type": "stream",
     "text": [
      "                                                                                                                      "
     ]
    },
    {
     "name": "stdout",
     "output_type": "stream",
     "text": [
      "runtime = 0.14 seconds\n"
     ]
    },
    {
     "name": "stderr",
     "output_type": "stream",
     "text": [
      "\r"
     ]
    },
    {
     "name": "stdout",
     "output_type": "stream",
     "text": [
      "q learning mean scores: -0.1268\n",
      "hit count: 117\n"
     ]
    },
    {
     "name": "stderr",
     "output_type": "stream",
     "text": [
      "                                                                                                                      \r"
     ]
    },
    {
     "name": "stdout",
     "output_type": "stream",
     "text": [
      "runtime = 1.09 seconds\n",
      "q learning mean scores: -0.0735\n",
      "hit count: 164\n"
     ]
    },
    {
     "name": "stderr",
     "output_type": "stream",
     "text": [
      "                                                                                                                      \r"
     ]
    },
    {
     "name": "stdout",
     "output_type": "stream",
     "text": [
      "runtime = 9.58 seconds\n",
      "q learning mean scores: -0.0496\n",
      "hit count: 185\n",
      "scores: [-0.2041, -0.1601, -0.1268, -0.0735, -0.0496]\n",
      "hit counts: [4, 30, 117, 164, 185]\n"
     ]
    }
   ],
   "source": [
    "## Q-learning iters ##\n",
    "\n",
    "iters = [10,100,1000,10000,100000]\n",
    "hit_counts = []\n",
    "scores = []\n",
    "\n",
    "for n in iters:\n",
    "\n",
    "    Q, V, pi_q, Q_track, pi_track = RL(blackjack).q_learning(\n",
    "        gamma=.99, init_alpha=0.5, min_alpha=0.001, alpha_decay_ratio=0.9, \n",
    "        init_epsilon=1.0, min_epsilon=0.01, epsilon_decay_ratio=0.99, n_episodes=n)\n",
    "\n",
    "    #test policy\n",
    "    test_scores = TestEnv.test_env(env=blackjack, n_iters=10000, render=False, pi=pi_q, user_input=False)\n",
    "    print(\"q learning mean scores:\", np.mean(test_scores))\n",
    "    scores.append(np.mean(test_scores))\n",
    "    print(\"hit count:\", hit_count(pi_q))\n",
    "    hit_counts.append(hit_count(pi_q))\n",
    "\n",
    "print(\"scores:\", scores)\n",
    "print(\"hit counts:\", hit_counts)"
   ]
  },
  {
   "cell_type": "code",
   "execution_count": 17,
   "id": "8a314908",
   "metadata": {},
   "outputs": [
    {
     "data": {
      "text/plain": [
       "[Text(0, 0, '10'),\n",
       " Text(1, 0, '100'),\n",
       " Text(2, 0, '1000'),\n",
       " Text(3, 0, '10000'),\n",
       " Text(4, 0, '100000')]"
      ]
     },
     "execution_count": 17,
     "metadata": {},
     "output_type": "execute_result"
    },
    {
     "data": {
      "image/png": "[encoded data removed]",
      "text/plain": [
       "<Figure size 640x480 with 1 Axes>"
      ]
     },
     "metadata": {},
     "output_type": "display_data"
    }
   ],
   "source": [
    "# plot scores\n",
    "scores = [-0.2041, -0.1601, -0.1268, -0.0735, -0.0496]\n",
    "x = [x for x in range(5)]\n",
    "x_labels = [\"10\",\"100\",\"1000\",\"10000\",\"100000\"]\n",
    "fig, ax = plt.subplots()\n",
    "\n",
    "ax.set_title(\"Q-Learning number of episodes vs score\")\n",
    "ax.set_xlabel(\"n_episodes\")\n",
    "ax.set_ylabel(\"mean score\")\n",
    "ax.plot(scores, marker=\"o\")\n",
    "ax.set_xticks(x)\n",
    "ax.set_xticklabels(x_labels)"
   ]
  },
  {
   "cell_type": "code",
   "execution_count": 20,
   "id": "d7919f3e",
   "metadata": {},
   "outputs": [
    {
     "data": {
      "text/plain": [
       "[Text(0, 0, '10'),\n",
       " Text(1, 0, '100'),\n",
       " Text(2, 0, '1000'),\n",
       " Text(3, 0, '10000'),\n",
       " Text(4, 0, '100000')]"
      ]
     },
     "execution_count": 20,
     "metadata": {},
     "output_type": "execute_result"
    },
    {
     "data": {
      "image/png": "[encoded data removed]",
      "text/plain": [
       "<Figure size 640x480 with 1 Axes>"
      ]
     },
     "metadata": {},
     "output_type": "display_data"
    }
   ],
   "source": [
    "# plot hit count\n",
    "hit_counts = [4, 30, 117, 164, 185]\n",
    "x = [x for x in range(5)]\n",
    "x_labels = [\"10\",\"100\",\"1000\",\"10000\",\"100000\"]\n",
    "fig, ax = plt.subplots()\n",
    "\n",
    "ax.set_title(\"Q-Learning hit count vs episodes\")\n",
    "ax.set_xlabel(\"n_episodes\")\n",
    "ax.set_ylabel(\"hit count\")\n",
    "ax.plot(hit_counts, marker=\"o\")\n",
    "ax.set_xticks(x)\n",
    "ax.set_xticklabels(x_labels)"
   ]
  },
  {
   "cell_type": "code",
   "execution_count": 15,
   "id": "60f048b6",
   "metadata": {},
   "outputs": [
    {
     "data": {
      "text/plain": [
       "[<matplotlib.lines.Line2D at 0x152435205d0>]"
      ]
     },
     "execution_count": 15,
     "metadata": {},
     "output_type": "execute_result"
    },
    {
     "data": {
      "image/png": "[encoded data removed]",
      "text/plain": [
       "<Figure size 640x480 with 1 Axes>"
      ]
     },
     "metadata": {},
     "output_type": "display_data"
    }
   ],
   "source": [
    "diffs = q_diff(Q_track)\n",
    "diffs_p = [diffs[i] for i in range(0,len(diffs),1000)]\n",
    "x = [x for x in range(0,len(diffs),1000)]\n",
    "\n",
    "fig, ax = plt.subplots()\n",
    "ax.set_title(\"Blackjack QL q-value diffs\")\n",
    "ax.set_ylabel(\"max diff\")\n",
    "ax.set_xlabel(\"n_episodes\")\n",
    "ax.plot(x,diffs_p)"
   ]
  },
  {
   "cell_type": "code",
   "execution_count": 8,
   "id": "9af413c2",
   "metadata": {},
   "outputs": [
    {
     "name": "stdout",
     "output_type": "stream",
     "text": [
      "running PI with gamma: 0  n_iters: 100  theta: 1e-14\n",
      "runtime = 0.01 seconds\n",
      "Avg. episode reward:  -0.22\n",
      "###################\n",
      "running PI with gamma: 0  n_iters: 100  theta: 1e-10\n",
      "runtime = 0.01 seconds\n",
      "Avg. episode reward:  -0.13\n",
      "###################\n",
      "running PI with gamma: 0  n_iters: 100  theta: 1e-06\n",
      "runtime = 0.01 seconds\n",
      "Avg. episode reward:  0.04\n",
      "###################\n",
      "running PI with gamma: 0  n_iters: 1000  theta: 1e-14\n",
      "runtime = 0.01 seconds\n",
      "Avg. episode reward:  0.15\n",
      "###################\n",
      "running PI with gamma: 0  n_iters: 1000  theta: 1e-10\n",
      "runtime = 0.01 seconds\n",
      "Avg. episode reward:  0.05\n",
      "###################\n",
      "running PI with gamma: 0  n_iters: 1000  theta: 1e-06\n",
      "runtime = 0.01 seconds\n",
      "Avg. episode reward:  -0.09\n",
      "###################\n",
      "running PI with gamma: 0  n_iters: 10000  theta: 1e-14\n",
      "runtime = 0.01 seconds\n",
      "Avg. episode reward:  0.04\n",
      "###################\n",
      "running PI with gamma: 0  n_iters: 10000  theta: 1e-10\n",
      "runtime = 0.01 seconds\n",
      "Avg. episode reward:  -0.11\n",
      "###################\n",
      "running PI with gamma: 0  n_iters: 10000  theta: 1e-06\n",
      "runtime = 0.01 seconds\n",
      "Avg. episode reward:  0.15\n",
      "###################\n",
      "running PI with gamma: 0.5  n_iters: 100  theta: 1e-14\n",
      "runtime = 0.03 seconds\n",
      "Avg. episode reward:  -0.06\n",
      "###################\n",
      "running PI with gamma: 0.5  n_iters: 100  theta: 1e-10\n",
      "runtime = 0.03 seconds\n",
      "Avg. episode reward:  -0.04\n",
      "###################\n",
      "running PI with gamma: 0.5  n_iters: 100  theta: 1e-06\n",
      "runtime = 0.03 seconds\n",
      "Avg. episode reward:  0.02\n",
      "###################\n",
      "running PI with gamma: 0.5  n_iters: 1000  theta: 1e-14\n",
      "runtime = 0.04 seconds\n",
      "Avg. episode reward:  0.01\n",
      "###################\n",
      "running PI with gamma: 0.5  n_iters: 1000  theta: 1e-10\n",
      "runtime = 0.03 seconds\n",
      "Avg. episode reward:  -0.1\n",
      "###################\n",
      "running PI with gamma: 0.5  n_iters: 1000  theta: 1e-06\n",
      "runtime = 0.02 seconds\n",
      "Avg. episode reward:  -0.08\n",
      "###################\n",
      "running PI with gamma: 0.5  n_iters: 10000  theta: 1e-14\n",
      "runtime = 0.03 seconds\n",
      "Avg. episode reward:  -0.06\n",
      "###################\n",
      "running PI with gamma: 0.5  n_iters: 10000  theta: 1e-10\n",
      "runtime = 0.03 seconds\n",
      "Avg. episode reward:  -0.03\n",
      "###################\n",
      "running PI with gamma: 0.5  n_iters: 10000  theta: 1e-06\n",
      "runtime = 0.03 seconds\n",
      "Avg. episode reward:  -0.1\n",
      "###################\n",
      "running PI with gamma: 1.0  n_iters: 100  theta: 1e-14\n",
      "runtime = 0.04 seconds\n",
      "Avg. episode reward:  -0.07\n",
      "###################\n",
      "running PI with gamma: 1.0  n_iters: 100  theta: 1e-10\n",
      "runtime = 0.04 seconds\n",
      "Avg. episode reward:  -0.05\n",
      "###################\n",
      "running PI with gamma: 1.0  n_iters: 100  theta: 1e-06\n",
      "runtime = 0.03 seconds\n",
      "Avg. episode reward:  -0.04\n",
      "###################\n",
      "running PI with gamma: 1.0  n_iters: 1000  theta: 1e-14\n",
      "runtime = 0.05 seconds\n",
      "Avg. episode reward:  0.09\n",
      "###################\n",
      "running PI with gamma: 1.0  n_iters: 1000  theta: 1e-10\n",
      "runtime = 0.04 seconds\n",
      "Avg. episode reward:  -0.08\n",
      "###################\n",
      "running PI with gamma: 1.0  n_iters: 1000  theta: 1e-06\n",
      "runtime = 0.03 seconds\n",
      "Avg. episode reward:  -0.07\n",
      "###################\n",
      "running PI with gamma: 1.0  n_iters: 10000  theta: 1e-14\n",
      "runtime = 0.04 seconds\n",
      "Avg. episode reward:  0.0\n",
      "###################\n",
      "running PI with gamma: 1.0  n_iters: 10000  theta: 1e-10\n",
      "runtime = 0.03 seconds\n",
      "Avg. episode reward:  -0.03\n",
      "###################\n",
      "running PI with gamma: 1.0  n_iters: 10000  theta: 1e-06\n",
      "runtime = 0.02 seconds\n",
      "Avg. episode reward:  0.04\n",
      "###################\n"
     ]
    }
   ],
   "source": [
    "# PI grid search\n",
    "gamma = [0, .5, 1.0]\n",
    "n_iters = [100,1000,10000]\n",
    "theta = [1e-14,1e-10,1e-6]\n",
    "GridSearch.pi_grid_search(blackjack, gamma, n_iters, theta)\n"
   ]
  },
  {
   "cell_type": "code",
   "execution_count": 54,
   "id": "f5a6a6e9",
   "metadata": {},
   "outputs": [
    {
     "name": "stdout",
     "output_type": "stream",
     "text": [
      "runtime = 0.05 seconds\n",
      "risk 1: 170\n"
     ]
    },
    {
     "name": "stderr",
     "output_type": "stream",
     "text": [
      "                                                                                                                      "
     ]
    },
    {
     "name": "stdout",
     "output_type": "stream",
     "text": [
      "runtime = 2.49 seconds\n",
      "risk 2: 153\n"
     ]
    },
    {
     "name": "stderr",
     "output_type": "stream",
     "text": [
      "\r"
     ]
    }
   ],
   "source": [
    "## Value Iteration ##\n",
    "\n",
    "V, V_track, pi = Planner(blackjack.P).value_iteration(n_iters=10, theta=1e-10)\n",
    "print(\"risk 1:\", risk_factor(pi))\n",
    "set1 = set(pi.items())\n",
    "\n",
    "Q, V, pi, Q_track, pi_track = RL(blackjack).q_learning()\n",
    "print(\"risk 2:\", risk_factor(pi))\n",
    "set2 = set(pi.items())\n",
    "\n",
    "diff = set1 ^ set2"
   ]
  },
  {
   "cell_type": "code",
   "execution_count": 57,
   "id": "4b7c764e",
   "metadata": {},
   "outputs": [
    {
     "name": "stderr",
     "output_type": "stream",
     "text": [
      "                                                                                                                      \r"
     ]
    },
    {
     "name": "stdout",
     "output_type": "stream",
     "text": [
      "runtime = 0.01 seconds\n",
      "n_episodes: 10\n",
      "q learning mean scores: -0.127\n",
      "risk: 0.03103448275862069\n"
     ]
    },
    {
     "name": "stderr",
     "output_type": "stream",
     "text": [
      "                                                                                                                      \r"
     ]
    },
    {
     "name": "stdout",
     "output_type": "stream",
     "text": [
      "runtime = 0.03 seconds\n",
      "n_episodes: 100\n",
      "q learning mean scores: -0.241\n",
      "risk: 0.10689655172413794\n"
     ]
    },
    {
     "name": "stderr",
     "output_type": "stream",
     "text": [
      "                                                                                                                      \r"
     ]
    },
    {
     "name": "stdout",
     "output_type": "stream",
     "text": [
      "runtime = 0.09 seconds\n",
      "n_episodes: 1000\n",
      "q learning mean scores: -0.23\n",
      "risk: 0.3896551724137931\n"
     ]
    },
    {
     "name": "stderr",
     "output_type": "stream",
     "text": [
      "                                                                                                                      \r"
     ]
    },
    {
     "name": "stdout",
     "output_type": "stream",
     "text": [
      "runtime = 1.07 seconds\n",
      "n_episodes: 10000\n",
      "q learning mean scores: -0.1\n",
      "risk: 0.5620689655172414\n"
     ]
    },
    {
     "name": "stderr",
     "output_type": "stream",
     "text": [
      "                                                                                                                      \r"
     ]
    },
    {
     "name": "stdout",
     "output_type": "stream",
     "text": [
      "runtime = 11.18 seconds\n",
      "n_episodes: 100000\n",
      "q learning mean scores: -0.021\n",
      "risk: 0.6068965517241379\n"
     ]
    }
   ],
   "source": [
    "# Risk vs n-iters\n",
    "\n",
    "n_iters = [10,100,1000,10000,100000]\n",
    "\n",
    "for x in n_iters:\n",
    "    Q, V, pi, Q_track, pi_track = RL(blackjack).q_learning(n_episodes=x)\n",
    "    test_scores = TestEnv.test_env(env=blackjack, n_iters=1000, render=False, pi=pi, user_input=False)\n",
    "    print(\"n_episodes:\", x)\n",
    "    print(\"q learning mean scores:\", np.mean(test_scores))\n",
    "    print(\"risk:\",risk_factor(pi))"
   ]
  },
  {
   "cell_type": "code",
   "execution_count": 100,
   "id": "924198d8",
   "metadata": {},
   "outputs": [
    {
     "name": "stderr",
     "output_type": "stream",
     "text": [
      "                                                                                                                      \r"
     ]
    },
    {
     "name": "stdout",
     "output_type": "stream",
     "text": [
      "runtime = 0.01 seconds\n",
      "risk: 6\n"
     ]
    },
    {
     "name": "stderr",
     "output_type": "stream",
     "text": [
      "                                                                                                                      \r"
     ]
    },
    {
     "name": "stdout",
     "output_type": "stream",
     "text": [
      "runtime = 0.03 seconds\n",
      "risk: 36\n"
     ]
    },
    {
     "name": "stderr",
     "output_type": "stream",
     "text": [
      "                                                                                                                      \r"
     ]
    },
    {
     "name": "stdout",
     "output_type": "stream",
     "text": [
      "runtime = 0.25 seconds\n",
      "risk: 123\n"
     ]
    },
    {
     "name": "stderr",
     "output_type": "stream",
     "text": [
      "                                                                                                                      \r"
     ]
    },
    {
     "name": "stdout",
     "output_type": "stream",
     "text": [
      "runtime = 2.65 seconds\n",
      "risk: 169\n"
     ]
    },
    {
     "name": "stderr",
     "output_type": "stream",
     "text": [
      "                                                                                                                      "
     ]
    },
    {
     "name": "stdout",
     "output_type": "stream",
     "text": [
      "runtime = 28.47 seconds\n",
      "risk: 177\n"
     ]
    },
    {
     "name": "stderr",
     "output_type": "stream",
     "text": [
      "\r"
     ]
    }
   ],
   "source": [
    "# Risk vs n-iters\n"
   ]
  },
  {
   "cell_type": "code",
   "execution_count": 105,
   "id": "8c9b5c93",
   "metadata": {},
   "outputs": [
    {
     "name": "stderr",
     "output_type": "stream",
     "text": [
      "                                                                                                                      \r"
     ]
    },
    {
     "name": "stdout",
     "output_type": "stream",
     "text": [
      "runtime = 29.58 seconds\n",
      "runtime = 0.06 seconds\n",
      "QL mean scores: -0.0439\n",
      "VI mean scores: -0.0518\n"
     ]
    }
   ],
   "source": [
    "Q, V, pi_q, Q_track, pi_track = RL(blackjack).q_learning(min_epsilon=0.01, n_episodes=100000)\n",
    "V, V_track, pi_v = Planner(blackjack.P).value_iteration(n_iters=10000, theta=1e-10)\n",
    "\n",
    "test_scores = TestEnv.test_env(env=blackjack, n_iters=10000, render=False, pi=pi_q, user_input=False)\n",
    "print(\"QL mean scores:\", np.mean(test_scores))\n",
    "\n",
    "test_scores = TestEnv.test_env(env=blackjack, n_iters=10000, render=False, pi=pi_v, user_input=False)\n",
    "print(\"VI mean scores:\", np.mean(test_scores))"
   ]
  },
  {
   "cell_type": "code",
   "execution_count": 111,
   "id": "4dc0f229",
   "metadata": {},
   "outputs": [
    {
     "name": "stdout",
     "output_type": "stream",
     "text": [
      "QL mean scores: -0.04642\n",
      "VI mean scores: -0.04376\n"
     ]
    }
   ],
   "source": [
    "test_scores = TestEnv.test_env(env=blackjack, n_iters=200000, render=False, pi=pi_q, user_input=False)\n",
    "print(\"QL mean scores:\", np.mean(test_scores))\n",
    "\n",
    "test_scores = TestEnv.test_env(env=blackjack, n_iters=200000, render=False, pi=pi_v, user_input=False)\n",
    "print(\"VI mean scores:\", np.mean(test_scores))"
   ]
  },
  {
   "cell_type": "code",
   "execution_count": 88,
   "id": "04ce6e90",
   "metadata": {},
   "outputs": [
    {
     "name": "stdout",
     "output_type": "stream",
     "text": [
      "runtime = 0.06 seconds\n",
      "risk: 170\n",
      "VI mean scores: -0.0347\n"
     ]
    }
   ],
   "source": [
    "## Value Iteration ##\n",
    "\n",
    "V, V_track, pi = Planner(blackjack.P).policy_iteration(n_iters=1000, theta=1e-2, gamma=1.0)\n",
    "print(\"risk:\", risk_factor(pi))\n",
    "\n",
    "#test policy\n",
    "test_scores = TestEnv.test_env(env=blackjack, n_iters=10000, render=False, pi=pi, user_input=False)\n",
    "print(\"VI mean scores:\", np.mean(test_scores))"
   ]
  },
  {
   "cell_type": "code",
   "execution_count": 119,
   "id": "9fab0634",
   "metadata": {},
   "outputs": [
    {
     "name": "stdout",
     "output_type": "stream",
     "text": [
      "runtime = 0.05 seconds\n",
      "runtime = 0.06 seconds\n",
      "risk: 163 , 170\n",
      "{(125, 0), (80, 1), (259, 0), (128, 0), (125, 1), (116, 0), (127, 0), (128, 1), (115, 0), (116, 1), (127, 1), (81, 0), (126, 0), (115, 1), (80, 0), (81, 1), (259, 1), (126, 1)}\n"
     ]
    }
   ],
   "source": [
    "V, V_track, pi1 = Planner(blackjack.P).value_iteration(n_iters=1000, theta=1e-10, gamma=.2)\n",
    "V, V_track, pi2 = Planner(blackjack.P).value_iteration(n_iters=1000, theta=1e-10, gamma=.99)\n",
    "\n",
    "print(\"risk:\", risk_factor(pi1),\",\", risk_factor(pi2))\n",
    "pi_diff(pi1,pi2)"
   ]
  },
  {
   "cell_type": "code",
   "execution_count": 121,
   "id": "a4bc3aaa",
   "metadata": {},
   "outputs": [
    {
     "name": "stderr",
     "output_type": "stream",
     "text": [
      "                                                                                                                      \r"
     ]
    },
    {
     "name": "stdout",
     "output_type": "stream",
     "text": [
      "runtime = 2.54 seconds\n"
     ]
    },
    {
     "name": "stderr",
     "output_type": "stream",
     "text": [
      "                                                                                                                      \r"
     ]
    },
    {
     "name": "stdout",
     "output_type": "stream",
     "text": [
      "runtime = 2.38 seconds\n",
      "risk: 141 , 159\n",
      "{(125, 0), (259, 0), (19, 0), (258, 1), (269, 1), (7, 1), (243, 0), (232, 0), (220, 1), (183, 0), (194, 0), (53, 0), (64, 0), (182, 1), (262, 0), (11, 0), (186, 1), (15, 0), (26, 0), (250, 1), (224, 0), (239, 0), (122, 0), (216, 1), (44, 1), (113, 0), (189, 1), (258, 0), (269, 0), (7, 0), (128, 0), (22, 0), (125, 1), (220, 0), (90, 0), (182, 0), (186, 0), (250, 0), (53, 1), (40, 1), (64, 1), (120, 0), (26, 1), (82, 0), (216, 0), (257, 1), (97, 0), (70, 1), (44, 0), (189, 0), (219, 1), (21, 1), (36, 1), (181, 1), (116, 0), (113, 1), (131, 0), (128, 1), (249, 1), (260, 1), (22, 1), (90, 1), (200, 1), (40, 0), (108, 0), (257, 0), (6, 0), (120, 1), (230, 1), (70, 0), (191, 0), (74, 0), (219, 0), (82, 1), (21, 0), (97, 1), (36, 0), (181, 0), (9, 1), (51, 0), (286, 1), (13, 1), (24, 1), (35, 1), (104, 0), (115, 0), (249, 0), (260, 0), (116, 1), (131, 1), (200, 0), (187, 0), (252, 1), (54, 1), (214, 1), (43, 0), (267, 1), (16, 1), (230, 0), (282, 1), (111, 0), (108, 1), (126, 0), (233, 1), (6, 1), (62, 0), (191, 1), (9, 0), (74, 1), (286, 0), (13, 0), (24, 0), (35, 0), (12, 1), (51, 1), (252, 0), (104, 1), (115, 1), (236, 1), (54, 0), (240, 1), (214, 0), (187, 1), (267, 0), (16, 0), (202, 1), (282, 0), (259, 1), (19, 1), (43, 1), (233, 0), (111, 1), (243, 1), (232, 1), (126, 1), (62, 1), (183, 1), (194, 1), (12, 0), (262, 1), (11, 1), (236, 0), (15, 1), (240, 0), (224, 1), (239, 1), (122, 1), (202, 0)}\n",
      "VI mean scores: -0.0555\n",
      "VI mean scores: -0.0739\n"
     ]
    }
   ],
   "source": [
    "Q, V, pi1, Q_track, pi_track = RL(blackjack).q_learning(\n",
    "    gamma=.5,min_epsilon=0.01, epsilon_decay_ratio=0.99)\n",
    "Q, V, pi2, Q_track, pi_track = RL(blackjack).q_learning(\n",
    "    gamma=.99,min_epsilon=0.01, epsilon_decay_ratio=0.99)\n",
    "\n",
    "print(\"risk:\", risk_factor(pi1),\",\", risk_factor(pi2))\n",
    "pi_diff(pi1,pi2)\n",
    "\n",
    "\n",
    "#test policy\n",
    "test_scores = TestEnv.test_env(env=blackjack, n_iters=10000, render=False, pi=pi1, user_input=False)\n",
    "print(\"VI mean scores:\", np.mean(test_scores))\n",
    "\n",
    "test_scores = TestEnv.test_env(env=blackjack, n_iters=10000, render=False, pi=pi2, user_input=False)\n",
    "print(\"VI mean scores:\", np.mean(test_scores))"
   ]
  },
  {
   "cell_type": "code",
   "execution_count": 48,
   "id": "1f9953b1",
   "metadata": {},
   "outputs": [
    {
     "name": "stderr",
     "output_type": "stream",
     "text": [
      "                                                                                                                      \r"
     ]
    },
    {
     "name": "stdout",
     "output_type": "stream",
     "text": [
      "runtime = 0.99 seconds\n",
      "q learning mean scores: -0.081\n",
      "hit count: 152\n"
     ]
    },
    {
     "name": "stderr",
     "output_type": "stream",
     "text": [
      "                                                                                                                      \r"
     ]
    },
    {
     "name": "stdout",
     "output_type": "stream",
     "text": [
      "runtime = 0.94 seconds\n",
      "q learning mean scores: -0.085\n",
      "hit count: 148\n"
     ]
    },
    {
     "name": "stderr",
     "output_type": "stream",
     "text": [
      "                                                                                                                      \r"
     ]
    },
    {
     "name": "stdout",
     "output_type": "stream",
     "text": [
      "runtime = 1.08 seconds\n",
      "q learning mean scores: -0.0803\n",
      "hit count: 161\n"
     ]
    },
    {
     "name": "stderr",
     "output_type": "stream",
     "text": [
      "                                                                                                                      \r"
     ]
    },
    {
     "name": "stdout",
     "output_type": "stream",
     "text": [
      "runtime = 0.93 seconds\n",
      "q learning mean scores: -0.057\n",
      "hit count: 169\n",
      "***OUTPUT***\n",
      "scores: [-0.081, -0.085, -0.0803, -0.057]\n",
      "hit counts: [152, 148, 161, 169]\n"
     ]
    }
   ],
   "source": [
    "## Q-learning alpha  ##\n",
    "\n",
    "alpha = [.1,.2,.5, .9]\n",
    "hit_counts = []\n",
    "scores = []\n",
    "\n",
    "for a in alpha:\n",
    "\n",
    "    Q, V, pi_q, Q_track, pi_track = RL(blackjack).q_learning(\n",
    "        gamma=.99, init_alpha=a, min_alpha=0.001, alpha_decay_ratio=.9, \n",
    "        init_epsilon=1.0, min_epsilon=0.01, epsilon_decay_ratio=.9, n_episodes=10000)\n",
    "\n",
    "    #test policy\n",
    "    test_scores = TestEnv.test_env(env=blackjack, n_iters=10000, render=False, pi=pi_q, user_input=False)\n",
    "    print(\"q learning mean scores:\", np.mean(test_scores))\n",
    "    scores.append(np.mean(test_scores))\n",
    "    print(\"hit count:\", hit_count(pi_q))\n",
    "    hit_counts.append(hit_count(pi_q))\n",
    "\n",
    "print(\"***OUTPUT***\")\n",
    "print(\"scores:\", scores)\n",
    "print(\"hit counts:\", hit_counts)"
   ]
  },
  {
   "cell_type": "code",
   "execution_count": 22,
   "id": "ab8b73de",
   "metadata": {},
   "outputs": [
    {
     "name": "stderr",
     "output_type": "stream",
     "text": [
      "                                                                                                                      \r"
     ]
    },
    {
     "name": "stdout",
     "output_type": "stream",
     "text": [
      "runtime = 0.94 seconds\n",
      "q learning mean scores: -0.1175\n",
      "hit count: 161\n"
     ]
    },
    {
     "name": "stderr",
     "output_type": "stream",
     "text": [
      "                                                                                                                      \r"
     ]
    },
    {
     "name": "stdout",
     "output_type": "stream",
     "text": [
      "runtime = 1.00 seconds\n",
      "q learning mean scores: -0.0926\n",
      "hit count: 150\n"
     ]
    },
    {
     "name": "stderr",
     "output_type": "stream",
     "text": [
      "                                                                                                                      \r"
     ]
    },
    {
     "name": "stdout",
     "output_type": "stream",
     "text": [
      "runtime = 0.97 seconds\n",
      "q learning mean scores: -0.067\n",
      "hit count: 163\n"
     ]
    },
    {
     "name": "stderr",
     "output_type": "stream",
     "text": [
      "                                                                                                                      \r"
     ]
    },
    {
     "name": "stdout",
     "output_type": "stream",
     "text": [
      "runtime = 0.95 seconds\n",
      "q learning mean scores: -0.0786\n",
      "hit count: 162\n",
      "***OUTPUT***\n",
      "scores: [-0.1175, -0.0926, -0.067, -0.0786]\n",
      "hit counts: [161, 150, 163, 162]\n"
     ]
    }
   ],
   "source": [
    "## Q-learning alpha decay ##\n",
    "\n",
    "alpha_decay = [.1,.5,.9,.99]\n",
    "hit_counts = []\n",
    "scores = []\n",
    "\n",
    "for d in alpha_decay:\n",
    "\n",
    "    Q, V, pi_q, Q_track, pi_track = RL(blackjack).q_learning(\n",
    "        gamma=.99, init_alpha=0.5, min_alpha=0.001, alpha_decay_ratio=d, \n",
    "        init_epsilon=1.0, min_epsilon=0.01, epsilon_decay_ratio=.9, n_episodes=10000)\n",
    "\n",
    "    #test policy\n",
    "    test_scores = TestEnv.test_env(env=blackjack, n_iters=10000, render=False, pi=pi_q, user_input=False)\n",
    "    print(\"q learning mean scores:\", np.mean(test_scores))\n",
    "    scores.append(np.mean(test_scores))\n",
    "    print(\"hit count:\", hit_count(pi_q))\n",
    "    hit_counts.append(hit_count(pi_q))\n",
    "\n",
    "print(\"***OUTPUT***\")\n",
    "print(\"scores:\", scores)\n",
    "print(\"hit counts:\", hit_counts)"
   ]
  },
  {
   "cell_type": "code",
   "execution_count": 24,
   "id": "c94fe941",
   "metadata": {},
   "outputs": [
    {
     "data": {
      "text/plain": [
       "[Text(0, 0, '0.1'), Text(1, 0, '0.5'), Text(2, 0, '0.9'), Text(3, 0, '0.99')]"
      ]
     },
     "execution_count": 24,
     "metadata": {},
     "output_type": "execute_result"
    },
    {
     "data": {
      "image/png": "[encoded data removed]",
      "text/plain": [
       "<Figure size 640x480 with 1 Axes>"
      ]
     },
     "metadata": {},
     "output_type": "display_data"
    }
   ],
   "source": [
    "# alpha decay plot\n",
    "\n",
    "scores = [-0.1175, -0.0926, -0.067, -0.0786]\n",
    "\n",
    "x = [x for x in range(4)]\n",
    "x_labels = [.1,.5,.9,.99]\n",
    "fig, ax = plt.subplots()\n",
    "\n",
    "ax.set_title(\"Q-Learning alpha decay vs score\")\n",
    "ax.set_xlabel(\"alpha decay\")\n",
    "ax.set_ylabel(\"mean score\")\n",
    "ax.plot(x,scores, marker=\"o\")\n",
    "ax.set_xticks(x)\n",
    "ax.set_xticklabels(x_labels)"
   ]
  },
  {
   "cell_type": "code",
   "execution_count": 46,
   "id": "63d1b391",
   "metadata": {},
   "outputs": [
    {
     "name": "stderr",
     "output_type": "stream",
     "text": [
      "                                                                                                                      \r"
     ]
    },
    {
     "name": "stdout",
     "output_type": "stream",
     "text": [
      "runtime = 1.04 seconds\n",
      "q learning mean scores: -0.0996\n",
      "hit count: 173\n"
     ]
    },
    {
     "name": "stderr",
     "output_type": "stream",
     "text": [
      "                                                                                                                      \r"
     ]
    },
    {
     "name": "stdout",
     "output_type": "stream",
     "text": [
      "runtime = 0.99 seconds\n",
      "q learning mean scores: -0.0729\n",
      "hit count: 165\n"
     ]
    },
    {
     "name": "stderr",
     "output_type": "stream",
     "text": [
      "                                                                                                                      \r"
     ]
    },
    {
     "name": "stdout",
     "output_type": "stream",
     "text": [
      "runtime = 0.99 seconds\n",
      "q learning mean scores: -0.0874\n",
      "hit count: 160\n"
     ]
    },
    {
     "name": "stderr",
     "output_type": "stream",
     "text": [
      "                                                                                                                      \r"
     ]
    },
    {
     "name": "stdout",
     "output_type": "stream",
     "text": [
      "runtime = 0.93 seconds\n",
      "q learning mean scores: -0.0783\n",
      "hit count: 157\n",
      "***OUTPUT***\n",
      "scores: [-0.0996, -0.0729, -0.0874, -0.0783]\n",
      "hit counts: [173, 165, 160, 157]\n"
     ]
    }
   ],
   "source": [
    "## Q-learning epsilon decay ##\n",
    "\n",
    "epsilon_decay = [.1,.5,.9,.99]\n",
    "hit_counts = []\n",
    "scores = []\n",
    "\n",
    "for d in epsilon_decay:\n",
    "\n",
    "    Q, V, pi_q, Q_track, pi_track = RL(blackjack).q_learning(\n",
    "        gamma=.99, init_alpha=0.5, min_alpha=0.001, alpha_decay_ratio=0.9, \n",
    "        init_epsilon=1.0, min_epsilon=0.01, epsilon_decay_ratio=d, n_episodes=10000)\n",
    "\n",
    "    #test policy\n",
    "    test_scores = TestEnv.test_env(env=blackjack, n_iters=10000, render=False, pi=pi_q, user_input=False)\n",
    "    print(\"q learning mean scores:\", np.mean(test_scores))\n",
    "    scores.append(np.mean(test_scores))\n",
    "    print(\"hit count:\", hit_count(pi_q))\n",
    "    hit_counts.append(hit_count(pi_q))\n",
    "\n",
    "print(\"***OUTPUT***\")\n",
    "print(\"scores:\", scores)\n",
    "print(\"hit counts:\", hit_counts)"
   ]
  },
  {
   "cell_type": "code",
   "execution_count": 21,
   "id": "61fb075a",
   "metadata": {},
   "outputs": [
    {
     "data": {
      "text/plain": [
       "[Text(0, 0, '0.1'), Text(1, 0, '0.5'), Text(2, 0, '0.9'), Text(3, 0, '0.99')]"
      ]
     },
     "execution_count": 21,
     "metadata": {},
     "output_type": "execute_result"
    },
    {
     "data": {
      "image/png": "[encoded data removed]",
      "text/plain": [
       "<Figure size 640x480 with 1 Axes>"
      ]
     },
     "metadata": {},
     "output_type": "display_data"
    }
   ],
   "source": [
    "# eps decay plot\n",
    "\n",
    "scores =[-0.0996, -0.0729, -0.0874, -0.0783]\n",
    "\n",
    "x = [x for x in range(4)]\n",
    "x_labels = [.1,.5,.9,.99]\n",
    "fig, ax = plt.subplots()\n",
    "\n",
    "ax.set_title(\"Q-Learning epsilon decay vs score\")\n",
    "ax.set_xlabel(\"epsilon decay\")\n",
    "ax.set_ylabel(\"mean score\")\n",
    "ax.plot(x,scores, marker=\"o\")\n",
    "ax.set_xticks(x)\n",
    "ax.set_xticklabels(x_labels)"
   ]
  },
  {
   "cell_type": "code",
   "execution_count": 20,
   "id": "0a432437",
   "metadata": {},
   "outputs": [
    {
     "data": {
      "text/plain": [
       "Text(0, 0.5, 'score')"
      ]
     },
     "execution_count": 20,
     "metadata": {},
     "output_type": "execute_result"
    },
    {
     "data": {
      "image/png": "[encoded data removed]",
      "text/plain": [
       "<Figure size 640x480 with 1 Axes>"
      ]
     },
     "metadata": {},
     "output_type": "display_data"
    }
   ],
   "source": [
    "# Plot scores\n",
    "\n",
    "scores = [-0.0418, -0.0581, -0.0551]\n",
    "algs = [\"VI\", \"PI\", \"QL\"]\n",
    "bar_colors = ['tab:red', 'tab:blue', 'tab:green']\n",
    "fig, ax = plt.subplots()\n",
    "ax.bar(algs, scores,color=bar_colors)\n",
    "ax.bar_label(ax.containers[0], label_type='edge')\n",
    "ax.set_title(\"Mean scores N=10000\")\n",
    "ax.set_xlabel(\"algorithm\")\n",
    "ax.set_ylabel(\"score\")"
   ]
  },
  {
   "cell_type": "code",
   "execution_count": 21,
   "id": "e3f3a449",
   "metadata": {},
   "outputs": [
    {
     "data": {
      "text/plain": [
       "Text(0, 0.5, 'time (seconds)')"
      ]
     },
     "execution_count": 21,
     "metadata": {},
     "output_type": "execute_result"
    },
    {
     "data": {
      "image/png": "[encoded data removed]",
      "text/plain": [
       "<Figure size 640x480 with 1 Axes>"
      ]
     },
     "metadata": {},
     "output_type": "display_data"
    }
   ],
   "source": [
    "# Plot training time\n",
    "\n",
    "times = [.04,.06, 10.05]\n",
    "algs = [\"VI\", \"PI\", \"QL\"]\n",
    "bar_colors = ['tab:red', 'tab:blue', 'tab:green']\n",
    "fig, ax = plt.subplots()\n",
    "ax.bar(algs, times,color=bar_colors)\n",
    "ax.bar_label(ax.containers[0], label_type='edge')\n",
    "ax.set_title(\"Runtimes\")\n",
    "ax.set_xlabel(\"algorithm\")\n",
    "ax.set_ylabel(\"time (seconds)\")"
   ]
  },
  {
   "cell_type": "code",
   "execution_count": null,
   "id": "65253bad",
   "metadata": {},
   "outputs": [],
   "source": []
  }
 ],
 "metadata": {
  "kernelspec": {
   "display_name": "Python 3 (ipykernel)",
   "language": "python",
   "name": "python3"
  },
  "language_info": {
   "codemirror_mode": {
    "name": "ipython",
    "version": 3
   },
   "file_extension": ".py",
   "mimetype": "text/x-python",
   "name": "python",
   "nbconvert_exporter": "python",
   "pygments_lexer": "ipython3",
   "version": "3.11.4"
  }
 },
 "nbformat": 4,
 "nbformat_minor": 5
}
