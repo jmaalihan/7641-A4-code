{
 "cells": [
  {
   "cell_type": "code",
   "execution_count": 20,
   "id": "24d5d6fd",
   "metadata": {},
   "outputs": [],
   "source": [
    "import gymnasium as gym\n",
    "from bettermdptools.utils.blackjack_wrapper import BlackjackWrapper\n",
    "from bettermdptools.utils.test_env import TestEnv\n",
    "from bettermdptools.algorithms.planner import Planner\n",
    "from bettermdptools.algorithms.rl import RL\n",
    "import numpy as np\n",
    "import matplotlib.pyplot as plt\n",
    "from bettermdptools.utils.plots import Plots"
   ]
  },
  {
   "cell_type": "code",
   "execution_count": 21,
   "id": "063abcd3",
   "metadata": {},
   "outputs": [],
   "source": [
    "# reward shape\n",
    "\n",
    "def shape(env):\n",
    "    env.reward_range = (-1000, 1000)\n",
    "    for k in env.P.keys():\n",
    "        v = env.P[k]\n",
    "        for a in v.keys():\n",
    "            p, s, r, t = v[a][0]\n",
    "            new_reward = 1.0\n",
    "            if t:\n",
    "                if r == 0.0:\n",
    "                    new_reward = -10.0\n",
    "                else:\n",
    "                    new_reward = 100.0\n",
    "\n",
    "            env.P[k][a][0] = (p, s, new_reward, t)\n",
    "\n",
    "def unshape(env):\n",
    "    env.reward_range = (-1000, 1000)\n",
    "    for k in env.P.keys():\n",
    "        v = env.P[k]\n",
    "        for a in v.keys():\n",
    "            p, s, r, t = v[a][0]\n",
    "            new_reward = 0.0\n",
    "            if t:\n",
    "                if r < 0.0:\n",
    "                    new_reward = 0.0\n",
    "                else:\n",
    "                    new_reward = 1.0\n",
    "\n",
    "            env.P[k][a][0] = (p, s, new_reward, t)"
   ]
  },
  {
   "cell_type": "code",
   "execution_count": 22,
   "id": "cef6f5eb",
   "metadata": {},
   "outputs": [],
   "source": [
    "# helper\n",
    "\n",
    "def iter_count(V_track, theta): # computes iterations to convergence\n",
    "    index = 0\n",
    "    max_diff = theta+1\n",
    "    while (max_diff > theta):\n",
    "        if (index == (len(V_track)-1)):\n",
    "            print(\"reached iter cap\")\n",
    "            return\n",
    "        v1 = V_track[index]\n",
    "        v2 = V_track[index+1]\n",
    "        max_diff = max([np.abs(v1[i]-v2[i]) for i in range(len(v1))])\n",
    "        index += 1\n",
    "    print(\"converged in\", index, \"iterations\")\n",
    "    return index\n",
    "\n",
    "def diff_arr(V_track):\n",
    "    diffs = []\n",
    "    for i in range(len(V_track)-1):\n",
    "        v1 = V_track[i]\n",
    "        v2 = V_track[i+1]\n",
    "        diff = max(abs(v1-v2))\n",
    "        \n",
    "        if (not np.any(v2)): # all zeroes\n",
    "            break\n",
    "        else:\n",
    "            diffs.append(diff)\n",
    "    return diffs\n",
    "\n",
    "def q_diff(Q_track):\n",
    "    diffs = []\n",
    "    for ep in range(len(Q_track)-1):\n",
    "        v1 = np.matrix(Q_track[ep])\n",
    "        v2 = np.matrix(Q_track[ep+1])\n",
    "        diff = np.max(np.abs(v1-v2))\n",
    "        diffs.append(diff)\n",
    "    return diffs"
   ]
  },
  {
   "cell_type": "code",
   "execution_count": 23,
   "id": "bf879c19",
   "metadata": {},
   "outputs": [],
   "source": [
    "# test env\n",
    "gym.envs.register(\n",
    "    id=\"FrozenLake-v1\",\n",
    "    entry_point=\"gymnasium.envs.toy_text.frozen_lake:FrozenLakeEnv\",\n",
    "    max_episode_steps=500,      \n",
    ")\n",
    "from gymnasium.envs.toy_text.frozen_lake import generate_random_map"
   ]
  },
  {
   "cell_type": "code",
   "execution_count": 128,
   "id": "4adb590d",
   "metadata": {},
   "outputs": [],
   "source": [
    "# Lakes no hole no slip\n",
    "lakes_nhns = [gym.make(\"FrozenLake-v1\", \n",
    "                             desc=generate_random_map(size=5, p=1.0), \n",
    "                             is_slippery=False),\n",
    "         gym.make(\"FrozenLake-v1\", \n",
    "                             desc=generate_random_map(size=10, p=1.0), \n",
    "                             is_slippery=False),\n",
    "         gym.make(\"FrozenLake-v1\", \n",
    "                             desc=generate_random_map(size=20, p=1.0), \n",
    "                             is_slippery=False) \n",
    "        ]"
   ]
  },
  {
   "cell_type": "code",
   "execution_count": 130,
   "id": "f5f681d8",
   "metadata": {},
   "outputs": [
    {
     "name": "stdout",
     "output_type": "stream",
     "text": [
      "*** RUNNING VI *** \n",
      "runtime = 0.00 seconds\n",
      "VI mean scores: 1.0\n",
      "converged in 9 iterations\n",
      "runtime = 0.01 seconds\n",
      "VI mean scores: 1.0\n",
      "converged in 19 iterations\n",
      "runtime = 0.06 seconds\n",
      "VI mean scores: 1.0\n",
      "converged in 39 iterations\n",
      "*** RUNNING PI *** \n",
      "runtime = 0.00 seconds\n",
      "PI mean scores: 1.0\n",
      "converged in 9 iterations\n",
      "runtime = 0.01 seconds\n",
      "PI mean scores: 1.0\n",
      "converged in 1 iterations\n",
      "runtime = 0.08 seconds\n",
      "PI mean scores: 1.0\n",
      "converged in 40 iterations\n",
      "*** RUNNING QL *** \n"
     ]
    },
    {
     "name": "stderr",
     "output_type": "stream",
     "text": [
      "                                                                                                                      \r"
     ]
    },
    {
     "name": "stdout",
     "output_type": "stream",
     "text": [
      "runtime = 1.58 seconds\n",
      "QL mean scores: 1.0\n"
     ]
    },
    {
     "name": "stderr",
     "output_type": "stream",
     "text": [
      "                                                                                                                      \r"
     ]
    },
    {
     "name": "stdout",
     "output_type": "stream",
     "text": [
      "runtime = 4.01 seconds\n",
      "QL mean scores: 1.0\n"
     ]
    },
    {
     "name": "stderr",
     "output_type": "stream",
     "text": [
      "                                                                                                                      \r"
     ]
    },
    {
     "name": "stdout",
     "output_type": "stream",
     "text": [
      "runtime = 61.53 seconds\n",
      "QL mean scores: 0.0\n"
     ]
    }
   ],
   "source": [
    "# NO HOLE NO SLIP NO SHAPE\n",
    "\n",
    "vi_diffs = []\n",
    "pi_diffs = []\n",
    "q_diffs = []\n",
    "\n",
    "print(\"*** RUNNING VI *** \")\n",
    "\n",
    "for frozen_lake in lakes_nhns:\n",
    "    V, V_track, pi = Planner(frozen_lake.P).value_iteration(\n",
    "    gamma=.99, n_iters=10000, theta=1e-12)\n",
    "    \n",
    "    vi_diffs.append(diff_arr(V_track))\n",
    "\n",
    "    #test policy\n",
    "    test_scores = TestEnv.test_env(env=frozen_lake, n_iters=100, render=False, pi=pi, user_input=False)\n",
    "    print(\"VI mean scores:\", np.mean(test_scores))\n",
    "    iter_count(V_track, 1e-12) \n",
    "    \n",
    "print(\"*** RUNNING PI *** \")\n",
    "\n",
    "for frozen_lake in lakes_nhns:\n",
    "    V, V_track, pi = Planner(frozen_lake.P).policy_iteration(\n",
    "    gamma=.99, n_iters=10000, theta=1e-12)\n",
    "    \n",
    "    pi_diffs.append(diff_arr(V_track))\n",
    "\n",
    "    #test policy\n",
    "    test_scores = TestEnv.test_env(env=frozen_lake, n_iters=100, render=False, pi=pi, user_input=False)\n",
    "    print(\"PI mean scores:\", np.mean(test_scores))\n",
    "    iter_count(V_track, 1e-12)\n",
    "\n",
    "print(\"*** RUNNING QL *** \")\n",
    "\n",
    "for frozen_lake in lakes_nhns:\n",
    "    Q, V, pi, Q_track, pi_track = RL(frozen_lake).q_learning(\n",
    "        gamma=.99, init_alpha=0.5, min_alpha=0.1, alpha_decay_ratio=0.5, \n",
    "        init_epsilon=1.0, min_epsilon=0.01, epsilon_decay_ratio=0.9, n_episodes=10000)\n",
    "    \n",
    "    q_diffs.append(q_diff(Q_track))\n",
    "\n",
    "    #test policy\n",
    "    test_scores = TestEnv.test_env(env=frozen_lake, n_iters=100, render=False, pi=pi, user_input=False)\n",
    "    print(\"QL mean scores:\", np.mean(test_scores))"
   ]
  },
  {
   "cell_type": "code",
   "execution_count": 134,
   "id": "3554dd30",
   "metadata": {},
   "outputs": [
    {
     "data": {
      "image/png": "[encoded data removed]",
      "text/plain": [
       "<Figure size 640x480 with 1 Axes>"
      ]
     },
     "metadata": {},
     "output_type": "display_data"
    }
   ],
   "source": [
    "# Plot convergence no hole no slip no shaping\n",
    "\n",
    "species = (\"VI\", \"PI\")\n",
    "penguin_means = {\n",
    "    '5x5': (9, 8),\n",
    "    '10x10': (19, 2),\n",
    "    '20x20': (39, 40),\n",
    "}\n",
    "\n",
    "x = np.arange(len(species))  # the label locations\n",
    "width = 0.25  # the width of the bars\n",
    "multiplier = 0\n",
    "\n",
    "fig, ax = plt.subplots(layout='constrained')\n",
    "\n",
    "for attribute, measurement in penguin_means.items():\n",
    "    offset = width * multiplier\n",
    "    rects = ax.bar(x + offset, measurement, width, label=attribute)\n",
    "    ax.bar_label(rects, padding=3)\n",
    "    multiplier += 1\n",
    "\n",
    "# Add some text for labels, title and custom x-axis tick labels, etc.\n",
    "ax.set_ylabel('iters')\n",
    "ax.set_title('Frozen Lake iterations to convergence (no holes no slipping)')\n",
    "ax.set_xticks(x + width, species)\n",
    "ax.legend(loc='upper right', ncols=3)\n",
    "\n",
    "plt.show()"
   ]
  },
  {
   "cell_type": "code",
   "execution_count": null,
   "id": "185ae17b",
   "metadata": {},
   "outputs": [],
   "source": [
    "# Plot times no hole no slip no shaping\n",
    "\n",
    "species = (\"VI\", \"PI\", \"QL\")\n",
    "penguin_means = {\n",
    "    '5x5': (.001, .001, 1.62),\n",
    "    '10x10': (.001, .01, 4.03),\n",
    "    '20x20': (.04, .06, 7.80),\n",
    "}\n",
    "\n",
    "x = np.arange(len(species))  # the label locations\n",
    "width = 0.25  # the width of the bars\n",
    "multiplier = 0\n",
    "\n",
    "fig, ax = plt.subplots(layout='constrained')\n",
    "\n",
    "for attribute, measurement in penguin_means.items():\n",
    "    offset = width * multiplier\n",
    "    rects = ax.bar(x + offset, measurement, width, label=attribute)\n",
    "    ax.bar_label(rects, padding=3)\n",
    "    multiplier += 1\n",
    "\n",
    "# Add some text for labels, title and custom x-axis tick labels, etc.\n",
    "ax.set_ylabel('time (seconds)')\n",
    "ax.set_title('Frozen Lake training times (no holes no slipping)')\n",
    "ax.set_xticks(x + width, species)\n",
    "ax.legend(loc='upper left', ncols=3)\n",
    "\n",
    "plt.show()"
   ]
  },
  {
   "cell_type": "code",
   "execution_count": 112,
   "id": "3f264631",
   "metadata": {},
   "outputs": [
    {
     "name": "stderr",
     "output_type": "stream",
     "text": [
      "                                                                                                                      \r"
     ]
    },
    {
     "name": "stdout",
     "output_type": "stream",
     "text": [
      "runtime = 21.56 seconds\n",
      "VI mean scores: 1.0\n"
     ]
    }
   ],
   "source": [
    "# Q Learning\n",
    "# no hol no slip large\n",
    "\n",
    "Q, V, pi, Q_track, pi_track = RL(lakes_nhns[2]).q_learning(\n",
    "        gamma=.99, init_alpha=0.5, min_alpha=0.1, alpha_decay_ratio=0.5, \n",
    "        init_epsilon=1.0, min_epsilon=0.01, epsilon_decay_ratio=0.9, n_episodes=10000)\n",
    "\n",
    "q_diffs.append(q_diff(Q_track))\n",
    "\n",
    "#test policy\n",
    "test_scores = TestEnv.test_env(lakes_nhns[2], n_iters=100, render=False, pi=pi, user_input=False)\n",
    "print(\"VI mean scores:\", np.mean(test_scores))\n",
    "\n"
   ]
  },
  {
   "cell_type": "code",
   "execution_count": null,
   "id": "6673c3c1",
   "metadata": {},
   "outputs": [],
   "source": []
  },
  {
   "cell_type": "code",
   "execution_count": 135,
   "id": "3eeca3d9",
   "metadata": {},
   "outputs": [
    {
     "name": "stdout",
     "output_type": "stream",
     "text": [
      "*** RUNNING VI *** \n",
      "runtime = 0.00 seconds\n",
      "VI mean scores: 1.0\n",
      "converged in 9 iterations\n",
      "runtime = 0.01 seconds\n",
      "VI mean scores: 1.0\n",
      "converged in 19 iterations\n",
      "runtime = 0.04 seconds\n",
      "VI mean scores: 1.0\n",
      "converged in 39 iterations\n",
      "*** RUNNING PI *** \n",
      "runtime = 0.00 seconds\n",
      "PI mean scores: 1.0\n",
      "converged in 10 iterations\n",
      "runtime = 0.01 seconds\n",
      "PI mean scores: 1.0\n",
      "converged in 20 iterations\n",
      "runtime = 0.06 seconds\n",
      "PI mean scores: 1.0\n",
      "converged in 41 iterations\n",
      "*** RUNNING QL *** \n"
     ]
    },
    {
     "name": "stderr",
     "output_type": "stream",
     "text": [
      "                                                                                                                      \r"
     ]
    },
    {
     "name": "stdout",
     "output_type": "stream",
     "text": [
      "runtime = 1.70 seconds\n",
      "QL mean scores: 1.0\n"
     ]
    },
    {
     "name": "stderr",
     "output_type": "stream",
     "text": [
      "                                                                                                                      \r"
     ]
    },
    {
     "name": "stdout",
     "output_type": "stream",
     "text": [
      "runtime = 3.98 seconds\n",
      "QL mean scores: 1.0\n"
     ]
    },
    {
     "name": "stderr",
     "output_type": "stream",
     "text": [
      "                                                                                                                      \r"
     ]
    },
    {
     "name": "stdout",
     "output_type": "stream",
     "text": [
      "runtime = 7.92 seconds\n",
      "QL mean scores: 1.0\n"
     ]
    }
   ],
   "source": [
    "# NO HOLE NO SLIP with shaping\n",
    "\n",
    "vi_diffs = []\n",
    "pi_diffs = []\n",
    "q_diffs = []\n",
    "\n",
    "print(\"*** RUNNING VI *** \")\n",
    "\n",
    "for frozen_lake in lakes_nhns:\n",
    "    shape(frozen_lake)\n",
    "    V, V_track, pi = Planner(frozen_lake.P).value_iteration(\n",
    "    gamma=.99, n_iters=10000, theta=1e-12)\n",
    "    \n",
    "    vi_diffs.append(diff_arr(V_track))\n",
    "    unshape(frozen_lake)\n",
    "    #test policy\n",
    "    test_scores = TestEnv.test_env(env=frozen_lake, n_iters=100, render=False, pi=pi, user_input=False)\n",
    "    print(\"VI mean scores:\", np.mean(test_scores))\n",
    "    iter_count(V_track, 1e-12) \n",
    "    \n",
    "print(\"*** RUNNING PI *** \")\n",
    "\n",
    "for frozen_lake in lakes_nhns:\n",
    "    shape(frozen_lake)\n",
    "    V, V_track, pi = Planner(frozen_lake.P).policy_iteration(\n",
    "    gamma=.99, n_iters=10000, theta=1e-12)\n",
    "    \n",
    "    pi_diffs.append(diff_arr(V_track))\n",
    "\n",
    "    unshape(frozen_lake)\n",
    "    #test policy\n",
    "    test_scores = TestEnv.test_env(env=frozen_lake, n_iters=100, render=False, pi=pi, user_input=False)\n",
    "    print(\"PI mean scores:\", np.mean(test_scores))\n",
    "    iter_count(V_track, 1e-12)\n",
    "\n",
    "print(\"*** RUNNING QL *** \")\n",
    "\n",
    "for frozen_lake in lakes_nhns:\n",
    "    shape(frozen_lake)\n",
    "    Q, V, pi, Q_track, pi_track = RL(frozen_lake).q_learning(\n",
    "        gamma=.99, init_alpha=0.5, min_alpha=0.1, alpha_decay_ratio=0.5, \n",
    "        init_epsilon=1.0, min_epsilon=0.01, epsilon_decay_ratio=0.9, n_episodes=10000)\n",
    "    \n",
    "    q_diffs.append(q_diff(Q_track))\n",
    "    \n",
    "    unshape(frozen_lake)\n",
    "    #test policy\n",
    "    test_scores = TestEnv.test_env(env=frozen_lake, n_iters=100, render=False, pi=pi, user_input=False)\n",
    "    print(\"QL mean scores:\", np.mean(test_scores))"
   ]
  },
  {
   "cell_type": "code",
   "execution_count": 117,
   "id": "76cb4932",
   "metadata": {},
   "outputs": [
    {
     "data": {
      "image/png": "[encoded data removed]",
      "text/plain": [
       "<Figure size 640x480 with 1 Axes>"
      ]
     },
     "metadata": {},
     "output_type": "display_data"
    }
   ],
   "source": [
    "\n",
    "species = (\"VI\", \"PI\", \"QL\")\n",
    "penguin_means = {\n",
    "    '5x5': (.001, .001, 1.87),\n",
    "    '10x10': (.02, .02, 4.47),\n",
    "    '20x20': (.04, .05, 8.22),\n",
    "}\n",
    "\n",
    "x = np.arange(len(species))  # the label locations\n",
    "width = 0.25  # the width of the bars\n",
    "multiplier = 0\n",
    "\n",
    "fig, ax = plt.subplots(layout='constrained')\n",
    "\n",
    "for attribute, measurement in penguin_means.items():\n",
    "    offset = width * multiplier\n",
    "    rects = ax.bar(x + offset, measurement, width, label=attribute)\n",
    "    ax.bar_label(rects, padding=3)\n",
    "    multiplier += 1\n",
    "\n",
    "# Add some text for labels, title and custom x-axis tick labels, etc.\n",
    "ax.set_ylabel('time (seconds)')\n",
    "ax.set_title('Frozen Lake training times with reward shaping (no holes no slipping)')\n",
    "ax.set_xticks(x + width, species)\n",
    "ax.legend(loc='upper left', ncols=3)\n",
    "\n",
    "plt.show()"
   ]
  },
  {
   "cell_type": "code",
   "execution_count": 136,
   "id": "afc894f7",
   "metadata": {},
   "outputs": [
    {
     "data": {
      "image/png": "[encoded data removed]",
      "text/plain": [
       "<Figure size 640x480 with 1 Axes>"
      ]
     },
     "metadata": {},
     "output_type": "display_data"
    }
   ],
   "source": [
    "# Plot convergence no hole no slip with shaping\n",
    "\n",
    "species = (\"VI\", \"PI\")\n",
    "penguin_means = {\n",
    "    '5x5': (9, 10),\n",
    "    '10x10': (19, 20),\n",
    "    '20x20': (39, 41),\n",
    "}\n",
    "\n",
    "x = np.arange(len(species))  # the label locations\n",
    "width = 0.25  # the width of the bars\n",
    "multiplier = 0\n",
    "\n",
    "fig, ax = plt.subplots(layout='constrained')\n",
    "\n",
    "for attribute, measurement in penguin_means.items():\n",
    "    offset = width * multiplier\n",
    "    rects = ax.bar(x + offset, measurement, width, label=attribute)\n",
    "    ax.bar_label(rects, padding=3)\n",
    "    multiplier += 1\n",
    "\n",
    "# Add some text for labels, title and custom x-axis tick labels, etc.\n",
    "ax.set_ylabel('iters')\n",
    "ax.set_title('Frozen Lake iterations to convergence reward shaping (no holes no slipping)')\n",
    "ax.set_xticks(x + width, species)\n",
    "ax.legend(loc='upper right', ncols=3)\n",
    "\n",
    "plt.show()"
   ]
  },
  {
   "cell_type": "code",
   "execution_count": 147,
   "id": "5933cb70",
   "metadata": {},
   "outputs": [],
   "source": [
    "# Lakes with holes no slip\n",
    "lakes_whns = [gym.make(\"FrozenLake-v1\", \n",
    "                             desc=generate_random_map(size=5, p=.7), \n",
    "                             is_slippery=False),\n",
    "         gym.make(\"FrozenLake-v1\", \n",
    "                             desc=generate_random_map(size=10, p=.8), \n",
    "                             is_slippery=False),\n",
    "         gym.make(\"FrozenLake-v1\", \n",
    "                             desc=generate_random_map(size=20, p=.9), \n",
    "                             is_slippery=False) \n",
    "        ]"
   ]
  },
  {
   "cell_type": "code",
   "execution_count": 150,
   "id": "e00115c1",
   "metadata": {},
   "outputs": [
    {
     "name": "stdout",
     "output_type": "stream",
     "text": [
      "*** RUNNING VI *** \n",
      "runtime = 0.00 seconds\n",
      "VI mean scores: 1.0\n",
      "converged in 9 iterations\n",
      "runtime = 0.01 seconds\n",
      "VI mean scores: 1.0\n",
      "converged in 19 iterations\n",
      "runtime = 0.05 seconds\n",
      "VI mean scores: 1.0\n",
      "converged in 39 iterations\n",
      "*** RUNNING PI *** \n",
      "runtime = 0.04 seconds\n",
      "PI mean scores: 1.0\n",
      "converged in 11 iterations\n",
      "runtime = 0.01 seconds\n",
      "PI mean scores: 1.0\n",
      "converged in 14 iterations\n",
      "runtime = 0.69 seconds\n",
      "PI mean scores: 1.0\n",
      "converged in 31 iterations\n",
      "*** RUNNING QL *** \n"
     ]
    },
    {
     "name": "stderr",
     "output_type": "stream",
     "text": [
      "                                                                                                                      \r"
     ]
    },
    {
     "name": "stdout",
     "output_type": "stream",
     "text": [
      "runtime = 1.41 seconds\n",
      "QL mean scores: 1.0\n"
     ]
    },
    {
     "name": "stderr",
     "output_type": "stream",
     "text": [
      "                                                                                                                      \r"
     ]
    },
    {
     "name": "stdout",
     "output_type": "stream",
     "text": [
      "runtime = 31.47 seconds\n",
      "QL mean scores: 0.0\n"
     ]
    },
    {
     "name": "stderr",
     "output_type": "stream",
     "text": [
      "                                                                                                                      \r"
     ]
    },
    {
     "name": "stdout",
     "output_type": "stream",
     "text": [
      "runtime = 13.36 seconds\n",
      "QL mean scores: 0.0\n"
     ]
    }
   ],
   "source": [
    "# WITH HOLE NO SLIP no shaping\n",
    "\n",
    "vi_diffs = []\n",
    "pi_diffs = []\n",
    "q_diffs = []\n",
    "\n",
    "print(\"*** RUNNING VI *** \")\n",
    "\n",
    "for frozen_lake in lakes_whns:\n",
    "    shape(frozen_lake)\n",
    "    V, V_track, pi = Planner(frozen_lake.P).value_iteration(\n",
    "    gamma=.99, n_iters=10000, theta=1e-12)\n",
    "    \n",
    "    vi_diffs.append(diff_arr(V_track))\n",
    "    unshape(frozen_lake)\n",
    "    \n",
    "    #test policy\n",
    "    test_scores = TestEnv.test_env(env=frozen_lake, n_iters=100, render=False, pi=pi, user_input=False)\n",
    "    print(\"VI mean scores:\", np.mean(test_scores))\n",
    "    iter_count(V_track, 1e-12) \n",
    "    \n",
    "print(\"*** RUNNING PI *** \")\n",
    "\n",
    "for frozen_lake in lakes_whns:\n",
    "    shape(frozen_lake)\n",
    "    V, V_track, pi = Planner(frozen_lake.P).policy_iteration(\n",
    "    gamma=.99, n_iters=10000, theta=1e-12)\n",
    "    \n",
    "    pi_diffs.append(diff_arr(V_track))\n",
    "\n",
    "    unshape(frozen_lake)\n",
    "\n",
    "    #test policy\n",
    "    test_scores = TestEnv.test_env(env=frozen_lake, n_iters=100, render=False, pi=pi, user_input=False)\n",
    "    print(\"PI mean scores:\", np.mean(test_scores))\n",
    "    iter_count(V_track, 1e-12)\n",
    "\n",
    "print(\"*** RUNNING QL *** \")\n",
    "\n",
    "for frozen_lake in lakes_whns:\n",
    "    shape(frozen_lake)\n",
    "    Q, V, pi, Q_track, pi_track = RL(frozen_lake).q_learning(\n",
    "        gamma=.99, init_alpha=0.5, min_alpha=0.01, alpha_decay_ratio=0.9, \n",
    "        init_epsilon=1.0, min_epsilon=0.001, epsilon_decay_ratio=0.995, n_episodes=10000)\n",
    "    \n",
    "    q_diffs.append(q_diff(Q_track))\n",
    "    \n",
    "    unshape(frozen_lake)\n",
    "    \n",
    "    #test policy\n",
    "    test_scores = TestEnv.test_env(env=frozen_lake, n_iters=100, render=False, pi=pi, user_input=False)\n",
    "    print(\"QL mean scores:\", np.mean(test_scores))"
   ]
  },
  {
   "cell_type": "code",
   "execution_count": null,
   "id": "f9a5d75f",
   "metadata": {},
   "outputs": [],
   "source": []
  },
  {
   "cell_type": "code",
   "execution_count": 20,
   "id": "eda2ea0b",
   "metadata": {},
   "outputs": [],
   "source": [
    "# Lakes no hole with slips\n",
    "lakes_nhws = [gym.make(\"FrozenLake-v1\", \n",
    "                             desc=generate_random_map(size=5, p=1.0), \n",
    "                             is_slippery=True),\n",
    "         gym.make(\"FrozenLake-v1\", \n",
    "                             desc=generate_random_map(size=10, p=1.0), \n",
    "                             is_slippery=True),\n",
    "         gym.make(\"FrozenLake-v1\", \n",
    "                             desc=generate_random_map(size=20, p=1.0), \n",
    "                             is_slippery=True) \n",
    "        ]"
   ]
  },
  {
   "cell_type": "code",
   "execution_count": null,
   "id": "ece1f7c8",
   "metadata": {},
   "outputs": [],
   "source": []
  },
  {
   "cell_type": "code",
   "execution_count": 21,
   "id": "8d483648",
   "metadata": {},
   "outputs": [
    {
     "name": "stdout",
     "output_type": "stream",
     "text": [
      "*** RUNNING VI *** \n",
      "runtime = 0.06 seconds\n",
      "VI mean scores: 1.0\n",
      "converged in 277 iterations\n",
      "runtime = 0.27 seconds\n",
      "VI mean scores: 1.0\n",
      "converged in 367 iterations\n",
      "runtime = 1.25 seconds\n",
      "VI mean scores: 1.0\n",
      "converged in 452 iterations\n",
      "*** RUNNING PI *** \n",
      "runtime = 0.05 seconds\n",
      "PI mean scores: 1.0\n",
      "converged in 1 iterations\n",
      "runtime = 0.45 seconds\n",
      "PI mean scores: 1.0\n",
      "converged in 6 iterations\n",
      "runtime = 2.32 seconds\n",
      "PI mean scores: 1.0\n",
      "converged in 8 iterations\n",
      "*** RUNNING QL *** \n"
     ]
    },
    {
     "name": "stderr",
     "output_type": "stream",
     "text": [
      "                                                                                                                      \r"
     ]
    },
    {
     "name": "stdout",
     "output_type": "stream",
     "text": [
      "runtime = 4.95 seconds\n",
      "QL mean scores: 1.0\n"
     ]
    },
    {
     "name": "stderr",
     "output_type": "stream",
     "text": [
      "                                                                                                                      \r"
     ]
    },
    {
     "name": "stdout",
     "output_type": "stream",
     "text": [
      "runtime = 12.00 seconds\n",
      "QL mean scores: 1.0\n"
     ]
    },
    {
     "name": "stderr",
     "output_type": "stream",
     "text": [
      "                                                                                                                      \r"
     ]
    },
    {
     "name": "stdout",
     "output_type": "stream",
     "text": [
      "runtime = 24.29 seconds\n",
      "QL mean scores: 1.0\n"
     ]
    }
   ],
   "source": [
    "# NO HOLES WITH SLIP NO SHAPE\n",
    "\n",
    "vi_diffs = []\n",
    "pi_diffs = []\n",
    "q_diffs = []\n",
    "\n",
    "print(\"*** RUNNING VI *** \")\n",
    "\n",
    "for frozen_lake in lakes_nhws:\n",
    "    V, V_track, pi = Planner(frozen_lake.P).value_iteration(\n",
    "    gamma=.99, n_iters=10000, theta=1e-12)\n",
    "    \n",
    "    vi_diffs.append(diff_arr(V_track))\n",
    "\n",
    "    #test policy\n",
    "    test_scores = TestEnv.test_env(env=frozen_lake, n_iters=100, render=False, pi=pi, user_input=False)\n",
    "    print(\"VI mean scores:\", np.mean(test_scores))\n",
    "    iter_count(V_track, 1e-12) \n",
    "    \n",
    "print(\"*** RUNNING PI *** \")\n",
    "\n",
    "for frozen_lake in lakes_nhws:\n",
    "    V, V_track, pi = Planner(frozen_lake.P).policy_iteration(\n",
    "    gamma=.99, n_iters=10000, theta=1e-12)\n",
    "    \n",
    "    pi_diffs.append(diff_arr(V_track))\n",
    "\n",
    "    #test policy\n",
    "    test_scores = TestEnv.test_env(env=frozen_lake, n_iters=100, render=False, pi=pi, user_input=False)\n",
    "    print(\"PI mean scores:\", np.mean(test_scores))\n",
    "    iter_count(V_track, 1e-12)\n",
    "\n",
    "print(\"*** RUNNING QL *** \")\n",
    "\n",
    "for frozen_lake in lakes_nhws:\n",
    "    Q, V, pi, Q_track, pi_track = RL(frozen_lake).q_learning(\n",
    "        gamma=.99, init_alpha=0.5, min_alpha=0.1, alpha_decay_ratio=0.5, \n",
    "        init_epsilon=1.0, min_epsilon=0.01, epsilon_decay_ratio=0.9, n_episodes=10000)\n",
    "    \n",
    "    q_diffs.append(q_diff(Q_track))\n",
    "\n",
    "    #test policy\n",
    "    test_scores = TestEnv.test_env(env=frozen_lake, n_iters=100, render=False, pi=pi, user_input=False)\n",
    "    print(\"QL mean scores:\", np.mean(test_scores))"
   ]
  },
  {
   "cell_type": "code",
   "execution_count": 123,
   "id": "335849d9",
   "metadata": {},
   "outputs": [
    {
     "data": {
      "image/png": "[encoded data removed]",
      "text/plain": [
       "<Figure size 640x480 with 1 Axes>"
      ]
     },
     "metadata": {},
     "output_type": "display_data"
    }
   ],
   "source": [
    "\n",
    "species = (\"VI\", \"PI\", \"QL\")\n",
    "penguin_means = {\n",
    "    '5x5': (277, .08, 4.46),\n",
    "    '10x10': (367, .41, 11.32),\n",
    "    '20x20': (1.22, 2.04, 22.54),\n",
    "}\n",
    "\n",
    "x = np.arange(len(species))  # the label locations\n",
    "width = 0.25  # the width of the bars\n",
    "multiplier = 0\n",
    "\n",
    "fig, ax = plt.subplots(layout='constrained')\n",
    "\n",
    "for attribute, measurement in penguin_means.items():\n",
    "    offset = width * multiplier\n",
    "    rects = ax.bar(x + offset, measurement, width, label=attribute)\n",
    "    ax.bar_label(rects, padding=3)\n",
    "    multiplier += 1\n",
    "\n",
    "# Add some text for labels, title and custom x-axis tick labels, etc.\n",
    "ax.set_ylabel('time (seconds)')\n",
    "ax.set_title('Frozen Lake training times (no holes with slipping)')\n",
    "ax.set_xticks(x + width, species)\n",
    "ax.legend(loc='upper left', ncols=3)\n",
    "\n",
    "plt.show()"
   ]
  },
  {
   "cell_type": "code",
   "execution_count": 139,
   "id": "8aeac3e1",
   "metadata": {},
   "outputs": [
    {
     "data": {
      "image/png": "[encoded data removed]",
      "text/plain": [
       "<Figure size 640x480 with 1 Axes>"
      ]
     },
     "metadata": {},
     "output_type": "display_data"
    }
   ],
   "source": [
    "# Plot convergence no hole with slips no shaping\n",
    "\n",
    "species = (\"VI\", \"PI\")\n",
    "penguin_means = {\n",
    "    '5x5': (277, 6),\n",
    "    '10x10': (367, 7),\n",
    "    '20x20': (452, 8),\n",
    "}\n",
    "\n",
    "x = np.arange(len(species))  # the label locations\n",
    "width = 0.25  # the width of the bars\n",
    "multiplier = 0\n",
    "\n",
    "fig, ax = plt.subplots(layout='constrained')\n",
    "\n",
    "for attribute, measurement in penguin_means.items():\n",
    "    offset = width * multiplier\n",
    "    rects = ax.bar(x + offset, measurement, width, label=attribute)\n",
    "    ax.bar_label(rects, padding=3)\n",
    "    multiplier += 1\n",
    "\n",
    "# Add some text for labels, title and custom x-axis tick labels, etc.\n",
    "ax.set_ylabel('iters')\n",
    "ax.set_title('Frozen Lake iterations to convergence(no holes with slipping)')\n",
    "ax.set_xticks(x + width, species)\n",
    "ax.legend(loc='upper right', ncols=3)\n",
    "\n",
    "plt.show()"
   ]
  },
  {
   "cell_type": "code",
   "execution_count": 22,
   "id": "2f02b5de",
   "metadata": {},
   "outputs": [
    {
     "name": "stdout",
     "output_type": "stream",
     "text": [
      "*** RUNNING VI *** \n",
      "runtime = 0.08 seconds\n",
      "VI mean scores: 1.0\n",
      "converged in 388 iterations\n",
      "runtime = 0.34 seconds\n",
      "VI mean scores: 1.0\n",
      "converged in 473 iterations\n",
      "runtime = 1.64 seconds\n",
      "VI mean scores: 1.0\n",
      "converged in 546 iterations\n",
      "*** RUNNING PI *** \n",
      "runtime = 0.06 seconds\n",
      "PI mean scores: 1.0\n",
      "converged in 6 iterations\n",
      "runtime = 0.58 seconds\n",
      "PI mean scores: 1.0\n",
      "converged in 7 iterations\n",
      "runtime = 4.68 seconds\n",
      "PI mean scores: 1.0\n",
      "converged in 27 iterations\n",
      "*** RUNNING QL *** \n"
     ]
    },
    {
     "name": "stderr",
     "output_type": "stream",
     "text": [
      "                                                                                                                      \r"
     ]
    },
    {
     "name": "stdout",
     "output_type": "stream",
     "text": [
      "runtime = 4.81 seconds\n",
      "QL mean scores: 1.0\n"
     ]
    },
    {
     "name": "stderr",
     "output_type": "stream",
     "text": [
      "                                                                                                                      \r"
     ]
    },
    {
     "name": "stdout",
     "output_type": "stream",
     "text": [
      "runtime = 11.81 seconds\n",
      "QL mean scores: 1.0\n"
     ]
    },
    {
     "name": "stderr",
     "output_type": "stream",
     "text": [
      "                                                                                                                      \r"
     ]
    },
    {
     "name": "stdout",
     "output_type": "stream",
     "text": [
      "runtime = 25.68 seconds\n",
      "QL mean scores: 1.0\n"
     ]
    }
   ],
   "source": [
    "# NO HOLES WITH SLIP REWARD SHAPING\n",
    "\n",
    "vi_diffs = []\n",
    "pi_diffs = []\n",
    "q_diffs = []\n",
    "\n",
    "print(\"*** RUNNING VI *** \")\n",
    "\n",
    "for frozen_lake in lakes_nhws:\n",
    "    shape(frozen_lake)\n",
    "    V, V_track, pi = Planner(frozen_lake.P).value_iteration(\n",
    "    gamma=.99, n_iters=10000, theta=1e-12)\n",
    "    \n",
    "    vi_diffs.append(diff_arr(V_track))\n",
    "    \n",
    "    unshape(frozen_lake)\n",
    "    #test policy\n",
    "    test_scores = TestEnv.test_env(env=frozen_lake, n_iters=100, render=False, pi=pi, user_input=False)\n",
    "    print(\"VI mean scores:\", np.mean(test_scores))\n",
    "    iter_count(V_track, 1e-12) \n",
    "    \n",
    "print(\"*** RUNNING PI *** \")\n",
    "\n",
    "for frozen_lake in lakes_nhws:\n",
    "    shape(frozen_lake)\n",
    "    V, V_track, pi = Planner(frozen_lake.P).policy_iteration(\n",
    "    gamma=.99, n_iters=10000, theta=1e-12)\n",
    "    unshape(frozen_lake)\n",
    "    \n",
    "    pi_diffs.append(diff_arr(V_track))\n",
    "\n",
    "    #test policy\n",
    "    test_scores = TestEnv.test_env(env=frozen_lake, n_iters=100, render=False, pi=pi, user_input=False)\n",
    "    print(\"PI mean scores:\", np.mean(test_scores))\n",
    "    iter_count(V_track, 1e-12)\n",
    "\n",
    "print(\"*** RUNNING QL *** \")\n",
    "\n",
    "for frozen_lake in lakes_nhws:\n",
    "    shape(frozen_lake)\n",
    "    Q, V, pi, Q_track, pi_track = RL(frozen_lake).q_learning(\n",
    "        gamma=.99, init_alpha=0.5, min_alpha=0.1, alpha_decay_ratio=0.5, \n",
    "        init_epsilon=1.0, min_epsilon=0.01, epsilon_decay_ratio=0.9, n_episodes=10000)\n",
    "    \n",
    "    unshape(frozen_lake)\n",
    "    q_diffs.append(q_diff(Q_track))\n",
    "\n",
    "    #test policy\n",
    "    test_scores = TestEnv.test_env(env=frozen_lake, n_iters=100, render=False, pi=pi, user_input=False)\n",
    "    print(\"QL mean scores:\", np.mean(test_scores))"
   ]
  },
  {
   "cell_type": "code",
   "execution_count": 23,
   "id": "e5d11829",
   "metadata": {},
   "outputs": [
    {
     "data": {
      "image/png": "[encoded data removed]",
      "text/plain": [
       "<Figure size 640x480 with 1 Axes>"
      ]
     },
     "metadata": {},
     "output_type": "display_data"
    }
   ],
   "source": [
    "# Plot no hole with slip shaping\n",
    "species = (\"VI\", \"PI\", \"QL\")\n",
    "penguin_means = {\n",
    "    '5x5': (.08, .06, 4.81),\n",
    "    '10x10': (.34, .58, 11.81),\n",
    "    '20x20': (1.64, 1.64, 25.68),\n",
    "}\n",
    "\n",
    "x = np.arange(len(species))  # the label locations\n",
    "width = 0.25  # the width of the bars\n",
    "multiplier = 0\n",
    "\n",
    "fig, ax = plt.subplots(layout='constrained')\n",
    "\n",
    "for attribute, measurement in penguin_means.items():\n",
    "    offset = width * multiplier\n",
    "    rects = ax.bar(x + offset, measurement, width, label=attribute)\n",
    "    ax.bar_label(rects, padding=3)\n",
    "    multiplier += 1\n",
    "\n",
    "# Add some text for labels, title and custom x-axis tick labels, etc.\n",
    "ax.set_ylabel('time (seconds)')\n",
    "ax.set_title('Frozen Lake training times with reward shaping (no holes with slipping)')\n",
    "ax.set_xticks(x + width, species)\n",
    "ax.legend(loc='upper left', ncols=3)\n",
    "\n",
    "plt.show()"
   ]
  },
  {
   "cell_type": "code",
   "execution_count": 25,
   "id": "23986211",
   "metadata": {},
   "outputs": [
    {
     "data": {
      "image/png": "[encoded data removed]",
      "text/plain": [
       "<Figure size 640x480 with 1 Axes>"
      ]
     },
     "metadata": {},
     "output_type": "display_data"
    }
   ],
   "source": [
    "# Plot iters no hole with slips no shaping\n",
    "\n",
    "\n",
    "\n",
    "species = (\"VI\", \"PI\")\n",
    "penguin_means = {\n",
    "    '5x5': (388, 6),\n",
    "    '10x10': (473, 7),\n",
    "    '20x20': (546, 27),\n",
    "}\n",
    "\n",
    "x = np.arange(len(species))  # the label locations\n",
    "width = 0.25  # the width of the bars\n",
    "multiplier = 0\n",
    "\n",
    "fig, ax = plt.subplots(layout='constrained')\n",
    "\n",
    "for attribute, measurement in penguin_means.items():\n",
    "    offset = width * multiplier\n",
    "    rects = ax.bar(x + offset, measurement, width, label=attribute)\n",
    "    ax.bar_label(rects, padding=3)\n",
    "    multiplier += 1\n",
    "\n",
    "# Add some text for labels, title and custom x-axis tick labels, etc.\n",
    "ax.set_ylabel('iters')\n",
    "ax.set_title('Frozen Lake iterations with reward shaping (no holes with slipping)')\n",
    "ax.set_xticks(x + width, species)\n",
    "ax.legend(loc='upper right', ncols=3)\n",
    "\n",
    "plt.show()"
   ]
  },
  {
   "cell_type": "code",
   "execution_count": 20,
   "id": "f8c9fc86",
   "metadata": {},
   "outputs": [
    {
     "name": "stdout",
     "output_type": "stream",
     "text": [
      "runtime = 0.20 seconds\n",
      "VI mean scores: 1.0\n",
      "converged in 5 iterations\n",
      "runtime = 1.24 seconds\n",
      "VI mean scores: 1.0\n",
      "converged in 7 iterations\n",
      "runtime = 7.09 seconds\n",
      "VI mean scores: 1.0\n",
      "converged in 8 iterations\n"
     ]
    }
   ],
   "source": [
    "# run PI\n",
    "\n",
    "pi_diffs = []\n",
    "\n",
    "for frozen_lake in lakes_nh:\n",
    "    V, V_track, pi = Planner(frozen_lake.P).policy_iteration(\n",
    "    gamma=.99, n_iters=10000, theta=1e-12)\n",
    "    \n",
    "    pi_diffs.append(diff_arr(V_track))\n",
    "\n",
    "    #test policy\n",
    "    test_scores = TestEnv.test_env(env=frozen_lake, n_iters=100, render=False, pi=pi, user_input=False)\n",
    "    print(\"VI mean scores:\", np.mean(test_scores))\n",
    "    iter_count(V_track, 1e-12)"
   ]
  },
  {
   "cell_type": "code",
   "execution_count": 22,
   "id": "ece801b3",
   "metadata": {},
   "outputs": [],
   "source": [
    "q_diffs = []"
   ]
  },
  {
   "cell_type": "code",
   "execution_count": 23,
   "id": "125d80a6",
   "metadata": {},
   "outputs": [
    {
     "name": "stderr",
     "output_type": "stream",
     "text": [
      "                                                                                                                      \r"
     ]
    },
    {
     "name": "stdout",
     "output_type": "stream",
     "text": [
      "runtime = 11.94 seconds\n",
      "VI mean scores: 1.0\n"
     ]
    }
   ],
   "source": [
    "# Q Learning\n",
    "# small\n",
    "\n",
    "Q, V, pi, Q_track, pi_track = RL(lakes_nh[0]).q_learning(\n",
    "        gamma=.99, init_alpha=0.5, min_alpha=0.1, alpha_decay_ratio=0.5, \n",
    "        init_epsilon=1.0, min_epsilon=0.01, epsilon_decay_ratio=0.9, n_episodes=10000)\n",
    "\n",
    "q_diffs.append(q_diff(Q_track))\n",
    "\n",
    "#test policy\n",
    "test_scores = TestEnv.test_env(env=lakes_nh[0], n_iters=100, render=False, pi=pi, user_input=False)\n",
    "print(\"VI mean scores:\", np.mean(test_scores))\n"
   ]
  },
  {
   "cell_type": "code",
   "execution_count": 24,
   "id": "3d26b322",
   "metadata": {},
   "outputs": [
    {
     "name": "stderr",
     "output_type": "stream",
     "text": [
      "                                                                                                                      \r"
     ]
    },
    {
     "name": "stdout",
     "output_type": "stream",
     "text": [
      "runtime = 32.21 seconds\n",
      "VI mean scores: 1.0\n"
     ]
    }
   ],
   "source": [
    "# Q Learning\n",
    "# med\n",
    "\n",
    "Q, V, pi, Q_track, pi_track = RL(lakes_nh[1]).q_learning(\n",
    "        gamma=.99, init_alpha=0.5, min_alpha=0.1, alpha_decay_ratio=0.5, \n",
    "        init_epsilon=1.0, min_epsilon=0.01, epsilon_decay_ratio=0.9, n_episodes=10000)\n",
    "\n",
    "q_diffs.append(q_diff(Q_track))\n",
    "\n",
    "#test policy\n",
    "test_scores = TestEnv.test_env(env=lakes_nh[1], n_iters=100, render=False, pi=pi, user_input=False)\n",
    "print(\"VI mean scores:\", np.mean(test_scores))\n"
   ]
  },
  {
   "cell_type": "code",
   "execution_count": 25,
   "id": "46bc2680",
   "metadata": {},
   "outputs": [
    {
     "name": "stderr",
     "output_type": "stream",
     "text": [
      "                                                                                                                      \r"
     ]
    },
    {
     "name": "stdout",
     "output_type": "stream",
     "text": [
      "runtime = 62.46 seconds\n",
      "VI mean scores: 1.0\n"
     ]
    }
   ],
   "source": [
    "# Q Learning\n",
    "# large\n",
    "\n",
    "Q, V, pi, Q_track, pi_track = RL(lakes_nh[2]).q_learning(\n",
    "        gamma=.99, init_alpha=0.5, min_alpha=0.1, alpha_decay_ratio=0.5, \n",
    "        init_epsilon=1.0, min_epsilon=0.01, epsilon_decay_ratio=0.9, n_episodes=10000)\n",
    "\n",
    "q_diffs.append(q_diff(Q_track))\n",
    "\n",
    "#test policy\n",
    "test_scores = TestEnv.test_env(env=lakes_nh[2], n_iters=100, render=False, pi=pi, user_input=False)\n",
    "print(\"VI mean scores:\", np.mean(test_scores))\n"
   ]
  },
  {
   "cell_type": "code",
   "execution_count": 38,
   "id": "bff03196",
   "metadata": {},
   "outputs": [],
   "source": []
  },
  {
   "cell_type": "code",
   "execution_count": 58,
   "id": "92607aa6",
   "metadata": {},
   "outputs": [
    {
     "data": {
      "text/plain": [
       "<matplotlib.legend.Legend at 0x1e778743ed0>"
      ]
     },
     "execution_count": 58,
     "metadata": {},
     "output_type": "execute_result"
    },
    {
     "data": {
      "image/png": "[encoded data removed]",
      "text/plain": [
       "<Figure size 640x480 with 1 Axes>"
      ]
     },
     "metadata": {},
     "output_type": "display_data"
    }
   ],
   "source": [
    "# Plots no holes learning curves\n",
    "\n",
    "q_diffs_m = [q_diffs[2][:2000][i] for i in range(0, len(q_diffs[2][:2000]),20)]\n",
    "q_x = [x for x in range(0, len(q_diffs[2][:2000]),20)]\n",
    "\n",
    "fig, ax = plt.subplots()\n",
    "ax.set_title(\"20x20 Lake (no holes)\")\n",
    "ax.set_xlabel(\"iter\")\n",
    "ax.set_ylabel(\"max diff\")\n",
    "ax.plot(vi_diffs[2],label=\"VI\")\n",
    "ax.plot(pi_diffs[2],label=\"PI\")\n",
    "ax.plot(q_x, q_diffs_m,label=\"QL\")\n",
    "ax.legend(loc=\"upper right\")\n"
   ]
  },
  {
   "cell_type": "code",
   "execution_count": 102,
   "id": "4a833ae1",
   "metadata": {},
   "outputs": [],
   "source": [
    "# Lakes with holes\n",
    "\n",
    "\n",
    "lakes_h = [gym.make(\"FrozenLake-v1\", \n",
    "                             desc=generate_random_map(size=5, p=.7), \n",
    "                             is_slippery=True),\n",
    "         gym.make(\"FrozenLake-v1\", \n",
    "                             desc=generate_random_map(size=10, p=.8), \n",
    "                             is_slippery=True),\n",
    "         gym.make(\"FrozenLake-v1\", \n",
    "                             desc=generate_random_map(size=20, p=.9), \n",
    "                             is_slippery=True) \n",
    "        ]\n"
   ]
  },
  {
   "cell_type": "code",
   "execution_count": 84,
   "id": "09c44480",
   "metadata": {},
   "outputs": [
    {
     "name": "stdout",
     "output_type": "stream",
     "text": [
      "runtime = 0.28 seconds\n",
      "VI mean scores: 0.98\n",
      "converged in 583 iterations\n",
      "runtime = 1.63 seconds\n",
      "VI mean scores: 0.96\n",
      "converged in 971 iterations\n",
      "runtime = 10.17 seconds\n",
      "VI mean scores: 0.97\n",
      "converged in 1487 iterations\n"
     ]
    }
   ],
   "source": [
    "# run VI\n",
    "\n",
    "vi_diffs_h = []\n",
    "\n",
    "for frozen_lake in lakes_h:\n",
    "    shape(frozen_lake)\n",
    "    V, V_track, pi = Planner(frozen_lake.P).value_iteration(\n",
    "    gamma=.99, n_iters=10000, theta=1e-12)\n",
    "    \n",
    "    vi_diffs_h.append(diff_arr(V_track))\n",
    "    unshape(frozen_lake)\n",
    "\n",
    "    #test policy\n",
    "    test_scores = TestEnv.test_env(env=frozen_lake, n_iters=100, render=False, pi=pi, user_input=False)\n",
    "    print(\"VI mean scores:\", np.mean(test_scores))\n",
    "    iter_count(V_track, 1e-12)"
   ]
  },
  {
   "cell_type": "code",
   "execution_count": 103,
   "id": "598f1488",
   "metadata": {},
   "outputs": [
    {
     "name": "stdout",
     "output_type": "stream",
     "text": [
      "runtime = 0.20 seconds\n",
      "PI mean scores: 1.0\n",
      "converged in 7 iterations\n",
      "runtime = 1.71 seconds\n",
      "PI mean scores: 0.04\n",
      "converged in 9 iterations\n",
      "runtime = 9.90 seconds\n",
      "PI mean scores: 0.89\n",
      "converged in 9 iterations\n"
     ]
    }
   ],
   "source": [
    "# run PI\n",
    "\n",
    "pi_diffs_h = []\n",
    "\n",
    "for frozen_lake in lakes_h:\n",
    "    shape(frozen_lake)\n",
    "    V, V_track, pi = Planner(frozen_lake.P).policy_iteration(\n",
    "    gamma=.99, n_iters=10000, theta=1e-12)\n",
    "    \n",
    "    pi_diffs_h.append(diff_arr(V_track))\n",
    "\n",
    "    unshape(frozen_lake)\n",
    "    #test policy\n",
    "    test_scores = TestEnv.test_env(env=frozen_lake, n_iters=100, render=False, pi=pi, user_input=False)\n",
    "    print(\"PI mean scores:\", np.mean(test_scores))\n",
    "    iter_count(V_track, 1e-12)"
   ]
  },
  {
   "cell_type": "code",
   "execution_count": null,
   "id": "321a8f22",
   "metadata": {},
   "outputs": [],
   "source": []
  },
  {
   "cell_type": "code",
   "execution_count": 95,
   "id": "d520e039",
   "metadata": {},
   "outputs": [
    {
     "name": "stderr",
     "output_type": "stream",
     "text": [
      "                                                                                                                      \r"
     ]
    },
    {
     "name": "stdout",
     "output_type": "stream",
     "text": [
      "runtime = 9.12 seconds\n",
      "VI mean scores: 0.06\n"
     ]
    }
   ],
   "source": [
    "# Q Learning\n",
    "# small\n",
    "\n",
    "lake = lakes_h[0]\n",
    "shape(lake)\n",
    "\n",
    "Q, V, pi, Q_track, pi_track = RL(lake).q_learning(\n",
    "        gamma=.99, init_alpha=0.5, min_alpha=0.1, alpha_decay_ratio=0.5, \n",
    "        init_epsilon=1.0, min_epsilon=0.01, epsilon_decay_ratio=0.9, n_episodes=10000)\n",
    "\n",
    "q_diffs_s = q_diff(Q_track)\n",
    "\n",
    "unshape(lake)\n",
    "\n",
    "#test policy\n",
    "test_scores = TestEnv.test_env(env=lake, n_iters=100, render=False, pi=pi, user_input=False)\n",
    "print(\"VI mean scores:\", np.mean(test_scores))"
   ]
  },
  {
   "cell_type": "code",
   "execution_count": 97,
   "id": "f6c8c6c7",
   "metadata": {},
   "outputs": [
    {
     "name": "stderr",
     "output_type": "stream",
     "text": [
      "                                                                                                                      \r"
     ]
    },
    {
     "name": "stdout",
     "output_type": "stream",
     "text": [
      "runtime = 3.08 seconds\n",
      "QL mean scores: 0.0\n"
     ]
    }
   ],
   "source": [
    "# Q Learning\n",
    "# medium\n",
    "\n",
    "shape(lakes_h[1])\n",
    "\n",
    "Q, V, pi, Q_track, pi_track = RL(lakes_h[1]).q_learning(\n",
    "        gamma=.99, init_alpha=0.5, min_alpha=0.01, alpha_decay_ratio=0.9, \n",
    "        init_epsilon=1.0, min_epsilon=0.001, epsilon_decay_ratio=0.95, n_episodes=20000)\n",
    "q_diffs_m = q_diff(Q_track)\n",
    "\n",
    "unshape(lakes_h[1])\n",
    "\n",
    "#test policy\n",
    "test_scores = TestEnv.test_env(env=lakes_h[1], n_iters=100, render=False, pi=pi, user_input=False)\n",
    "print(\"QL mean scores:\", np.mean(test_scores))"
   ]
  },
  {
   "cell_type": "code",
   "execution_count": 90,
   "id": "41d87531",
   "metadata": {},
   "outputs": [
    {
     "name": "stderr",
     "output_type": "stream",
     "text": [
      "                                                                                                                      \r"
     ]
    },
    {
     "name": "stdout",
     "output_type": "stream",
     "text": [
      "runtime = 5.27 seconds\n",
      "VI mean scores: 1.0\n"
     ]
    }
   ],
   "source": [
    "# Q Learning\n",
    "\n",
    "# large\n",
    "\n",
    "shape(lakes_h[2])\n",
    "\n",
    "Q, V, pi, Q_track, pi_track = RL(lakes_h[2]).q_learning(\n",
    "        gamma=.99, init_alpha=0.5, min_alpha=0.1, alpha_decay_ratio=0.5, \n",
    "        init_epsilon=1.0, min_epsilon=0.01, epsilon_decay_ratio=0.9, n_episodes=10000)\n",
    "\n",
    "q_diffs_l = q_diff(Q_track)\n",
    "\n",
    "unshape(lakes_h[2])\n",
    "\n",
    "#test policy\n",
    "test_scores = TestEnv.test_env(env=lakes_h[2], n_iters=100, render=False, pi=pi, user_input=False)\n",
    "print(\"VI mean scores:\", np.mean(test_scores))"
   ]
  },
  {
   "cell_type": "code",
   "execution_count": 13,
   "id": "cca4c13e",
   "metadata": {},
   "outputs": [],
   "source": []
  },
  {
   "cell_type": "code",
   "execution_count": 14,
   "id": "a47c8c96",
   "metadata": {},
   "outputs": [
    {
     "name": "stdout",
     "output_type": "stream",
     "text": [
      "*** RUNNING VI *** \n",
      "runtime = 0.01 seconds\n",
      "VI mean scores: 1.0\n",
      "converged in 22 iterations\n",
      "runtime = 0.00 seconds\n",
      "VI mean scores: 1.0\n",
      "converged in 15 iterations\n",
      "runtime = 0.00 seconds\n",
      "VI mean scores: 1.0\n",
      "converged in 15 iterations\n",
      "runtime = 0.00 seconds\n",
      "VI mean scores: 1.0\n",
      "converged in 15 iterations\n",
      "*** RUNNING PI *** \n",
      "runtime = 0.02 seconds\n",
      "PI mean scores: 1.0\n",
      "converged in 1 iterations\n",
      "runtime = 0.02 seconds\n",
      "PI mean scores: 1.0\n",
      "converged in 16 iterations\n",
      "runtime = 0.00 seconds\n",
      "PI mean scores: 1.0\n",
      "converged in 15 iterations\n",
      "runtime = 0.00 seconds\n",
      "PI mean scores: 1.0\n",
      "converged in 16 iterations\n",
      "*** RUNNING QL *** \n"
     ]
    },
    {
     "name": "stderr",
     "output_type": "stream",
     "text": [
      "                                                                                                                      \r"
     ]
    },
    {
     "name": "stdout",
     "output_type": "stream",
     "text": [
      "runtime = 31.26 seconds\n",
      "QL mean scores: 0.0\n"
     ]
    },
    {
     "name": "stderr",
     "output_type": "stream",
     "text": [
      "                                                                                                                      \r"
     ]
    },
    {
     "name": "stdout",
     "output_type": "stream",
     "text": [
      "runtime = 25.14 seconds\n",
      "QL mean scores: 0.0\n"
     ]
    },
    {
     "name": "stderr",
     "output_type": "stream",
     "text": [
      "                                                                                                                      \r"
     ]
    },
    {
     "name": "stdout",
     "output_type": "stream",
     "text": [
      "runtime = 47.18 seconds\n",
      "QL mean scores: 0.0\n"
     ]
    },
    {
     "name": "stderr",
     "output_type": "stream",
     "text": [
      "                                                                                                                      \r"
     ]
    },
    {
     "name": "stdout",
     "output_type": "stream",
     "text": [
      "runtime = 23.25 seconds\n",
      "QL mean scores: 0.0\n"
     ]
    }
   ],
   "source": [
    "# NO HOLES WITH SLIP NO REWARD SHAPING\n",
    "\n",
    "vi_diffs = []\n",
    "pi_diffs = []\n",
    "q_diffs = []\n",
    "\n",
    "print(\"*** RUNNING VI *** \")\n",
    "\n",
    "for frozen_lake in lakes_h8:\n",
    "    V, V_track, pi = Planner(frozen_lake.P).value_iteration(\n",
    "    gamma=.99, n_iters=10000, theta=1e-12)\n",
    "    \n",
    "    vi_diffs.append(diff_arr(V_track))\n",
    "\n",
    "    #test policy\n",
    "    test_scores = TestEnv.test_env(env=frozen_lake, n_iters=100, render=False, pi=pi, user_input=False)\n",
    "    print(\"VI mean scores:\", np.mean(test_scores))\n",
    "    iter_count(V_track, 1e-12) \n",
    "    \n",
    "print(\"*** RUNNING PI *** \")\n",
    "\n",
    "for frozen_lake in lakes_h8:\n",
    "    V, V_track, pi = Planner(frozen_lake.P).policy_iteration(\n",
    "    gamma=.99, n_iters=10000, theta=1e-12)\n",
    "    \n",
    "    pi_diffs.append(diff_arr(V_track))\n",
    "\n",
    "    #test policy\n",
    "    test_scores = TestEnv.test_env(env=frozen_lake, n_iters=100, render=False, pi=pi, user_input=False)\n",
    "    print(\"PI mean scores:\", np.mean(test_scores))\n",
    "    iter_count(V_track, 1e-12)\n",
    "\n",
    "print(\"*** RUNNING QL *** \")\n",
    "\n",
    "for frozen_lake in lakes_h8:\n",
    "    Q, V, pi, Q_track, pi_track = RL(frozen_lake).q_learning(\n",
    "        gamma=.99, init_alpha=0.5, min_alpha=0.1, alpha_decay_ratio=0.5, \n",
    "        init_epsilon=1.0, min_epsilon=0.01, epsilon_decay_ratio=0.9, n_episodes=10000)\n",
    "    \n",
    "    q_diffs.append(q_diff(Q_track))\n",
    "\n",
    "    #test policy\n",
    "    test_scores = TestEnv.test_env(env=frozen_lake, n_iters=100, render=False, pi=pi, user_input=False)\n",
    "    print(\"QL mean scores:\", np.mean(test_scores))"
   ]
  },
  {
   "cell_type": "code",
   "execution_count": 35,
   "id": "8af52170",
   "metadata": {},
   "outputs": [],
   "source": [
    "# SLIPPING HOLES \n",
    "lakes_whws = [gym.make(\"FrozenLake-v1\", \n",
    "                             desc=generate_random_map(size=5, p=.9), \n",
    "                             is_slippery=True),\n",
    "              gym.make(\"FrozenLake-v1\", \n",
    "                             desc=generate_random_map(size=10, p=.9), \n",
    "                             is_slippery=True),\n",
    "              gym.make(\"FrozenLake-v1\", \n",
    "                             desc=generate_random_map(size=20, p=.9), \n",
    "                             is_slippery=True),\n",
    "        ]"
   ]
  },
  {
   "cell_type": "code",
   "execution_count": null,
   "id": "bfa797de",
   "metadata": {
    "scrolled": true
   },
   "outputs": [
    {
     "name": "stdout",
     "output_type": "stream",
     "text": [
      "*** RUNNING VI *** \n",
      "runtime = 0.13 seconds\n",
      "VI mean scores: 1.0\n",
      "converged in 630 iterations\n",
      "runtime = 0.30 seconds\n",
      "VI mean scores: 0.941\n",
      "converged in 443 iterations\n",
      "runtime = 2.33 seconds\n",
      "VI mean scores: 0.881\n",
      "converged in 898 iterations\n",
      "*** RUNNING PI *** \n",
      "runtime = 0.09 seconds\n",
      "PI mean scores: 1.0\n",
      "converged in 6 iterations\n",
      "runtime = 0.32 seconds\n",
      "PI mean scores: 0.951\n",
      "converged in 5 iterations\n",
      "runtime = 2.04 seconds\n",
      "PI mean scores: 0.897\n",
      "converged in 6 iterations\n",
      "*** RUNNING QL *** \n"
     ]
    },
    {
     "name": "stderr",
     "output_type": "stream",
     "text": [
      "                                                                                                                      \r"
     ]
    },
    {
     "name": "stdout",
     "output_type": "stream",
     "text": [
      "runtime = 3.96 seconds\n",
      "QL mean scores: 0.613\n"
     ]
    },
    {
     "name": "stderr",
     "output_type": "stream",
     "text": [
      " 78%|██████████████████████████████████████████████████████████▌                | 7808/10000 [00:10<00:07, 292.97it/s]"
     ]
    }
   ],
   "source": [
    "# SLIPPING HOLES NO SHAPING\n",
    "\n",
    "vi_diffs = []\n",
    "pi_diffs = []\n",
    "q_diffs = []\n",
    "\n",
    "print(\"*** RUNNING VI *** \")\n",
    "\n",
    "for frozen_lake in lakes_whws:\n",
    "    #shape(frozen_lake)\n",
    "    V, V_track, pi = Planner(frozen_lake.P).value_iteration(\n",
    "    gamma=.99, n_iters=10000, theta=1e-12)\n",
    "    \n",
    "    vi_diffs.append(diff_arr(V_track))\n",
    "    \n",
    "    #unshape(frozen_lake)\n",
    "    #test policy\n",
    "    test_scores = TestEnv.test_env(env=frozen_lake, n_iters=1000, render=False, pi=pi, user_input=False)\n",
    "    print(\"VI mean scores:\", np.mean(test_scores))\n",
    "    iter_count(V_track, 1e-12) \n",
    "    \n",
    "print(\"*** RUNNING PI *** \")\n",
    "\n",
    "for frozen_lake in lakes_whws:\n",
    "    #shape(frozen_lake)\n",
    "    V, V_track, pi = Planner(frozen_lake.P).policy_iteration(\n",
    "    gamma=.99, n_iters=10000, theta=1e-12)\n",
    "    #unshape(frozen_lake)\n",
    "    \n",
    "    pi_diffs.append(diff_arr(V_track))\n",
    "\n",
    "    #test policy\n",
    "    test_scores = TestEnv.test_env(env=frozen_lake, n_iters=1000, render=False, pi=pi, user_input=False)\n",
    "    print(\"PI mean scores:\", np.mean(test_scores))\n",
    "    iter_count(V_track, 1e-12)\n",
    "\n",
    "print(\"*** RUNNING QL *** \")\n",
    "\n",
    "for frozen_lake in lakes_whws:\n",
    "    #shape(frozen_lake)\n",
    "    Q, V, pi, Q_track, pi_track = RL(frozen_lake).q_learning(\n",
    "        gamma=.9, init_alpha=0.5, min_alpha=0.1, alpha_decay_ratio=0.9, \n",
    "        init_epsilon=1.0, min_epsilon=0.01, epsilon_decay_ratio=0.995, n_episodes=10000)\n",
    "    \n",
    "   # unshape(frozen_lake)\n",
    "    q_diffs.append(q_diff(Q_track))\n",
    "\n",
    "    #test policy\n",
    "    test_scores = TestEnv.test_env(env=frozen_lake, n_iters=1000, render=False, pi=pi, user_input=False)\n",
    "    print(\"QL mean scores:\", np.mean(test_scores))"
   ]
  },
  {
   "cell_type": "code",
   "execution_count": null,
   "id": "33eb89dd",
   "metadata": {},
   "outputs": [],
   "source": [
    "*** RUNNING VI *** \n",
    "runtime = 0.08 seconds\n",
    "VI mean scores: 1.0\n",
    "converged in 368 iterations\n",
    "runtime = 0.33 seconds\n",
    "VI mean scores: 1.0\n",
    "converged in 521 iterations\n",
    "runtime = 1.74 seconds\n",
    "VI mean scores: 0.95\n",
    "converged in 706 iterations\n",
    "*** RUNNING PI *** \n",
    "runtime = 0.07 seconds\n",
    "PI mean scores: 1.0\n",
    "converged in 6 iterations\n",
    "runtime = 0.75 seconds\n",
    "PI mean scores: 1.0\n",
    "converged in 14 iterations\n",
    "runtime = 2.25 seconds\n",
    "PI mean scores: 0.95\n",
    "converged in 9 iterations\n",
    "*** RUNNING QL *** \n",
    "runtime = 15.08 seconds\n",
    "QL mean scores: 1.0\n",
    "runtime = 41.36 seconds\n",
    "QL mean scores: 0.81"
   ]
  },
  {
   "cell_type": "code",
   "execution_count": 19,
   "id": "7cb64201",
   "metadata": {},
   "outputs": [
    {
     "data": {
      "image/png": "[encoded data removed]",
      "text/plain": [
       "<Figure size 640x480 with 1 Axes>"
      ]
     },
     "metadata": {},
     "output_type": "display_data"
    }
   ],
   "source": [
    "\n",
    "# Plot convergence with holes with slip \n",
    "\n",
    "species = (\"VI\", \"PI\")\n",
    "penguin_means = {\n",
    "    '5x5': (660, 5),\n",
    "    '10x10': (615, 13),\n",
    "    '20x20': (1226, 9),\n",
    "}\n",
    "\n",
    "x = np.arange(len(species))  # the label locations\n",
    "width = 0.25  # the width of the bars\n",
    "multiplier = 0\n",
    "\n",
    "fig, ax = plt.subplots(layout='constrained')\n",
    "\n",
    "for attribute, measurement in penguin_means.items():\n",
    "    offset = width * multiplier\n",
    "    rects = ax.bar(x + offset, measurement, width, label=attribute)\n",
    "    ax.bar_label(rects, padding=3)\n",
    "    multiplier += 1\n",
    "\n",
    "# Add some text for labels, title and custom x-axis tick labels, etc.\n",
    "ax.set_ylabel('iters')\n",
    "ax.set_title('Frozen Lake iterations to convergence (with holes with slipping)')\n",
    "ax.set_xticks(x + width, species)\n",
    "ax.legend(loc='upper right', ncols=3)\n",
    "\n",
    "plt.show()"
   ]
  },
  {
   "cell_type": "code",
   "execution_count": 15,
   "id": "3c441739",
   "metadata": {},
   "outputs": [
    {
     "data": {
      "image/png": "[encoded data removed]",
      "text/plain": [
       "<Figure size 640x480 with 1 Axes>"
      ]
     },
     "metadata": {},
     "output_type": "display_data"
    }
   ],
   "source": [
    "# TIMES PLOT WITH HOLE WITH SLIP\n",
    "species = (\"VI\", \"PI\", \"QL\")\n",
    "penguin_means = {\n",
    "    '5x5': (.13, .07, 10.03),\n",
    "    '10x10': (.41, .57, 95.94),\n",
    "    '20x20': (2.92, 7.88, -1),\n",
    "}\n",
    "\n",
    "x = np.arange(len(species))  # the label locations\n",
    "width = 0.25  # the width of the bars\n",
    "multiplier = 0\n",
    "\n",
    "fig, ax = plt.subplots(layout='constrained')\n",
    "\n",
    "for attribute, measurement in penguin_means.items():\n",
    "    offset = width * multiplier\n",
    "    rects = ax.bar(x + offset, measurement, width, label=attribute)\n",
    "    ax.bar_label(rects, padding=3)\n",
    "    multiplier += 1\n",
    "\n",
    "# Add some text for labels, title and custom x-axis tick labels, etc.\n",
    "ax.set_ylabel('time (seconds)')\n",
    "ax.set_title('Frozen Lake training times (with holes with slipping)')\n",
    "ax.set_xticks(x + width, species)\n",
    "ax.legend(loc='upper left', ncols=3)\n",
    "\n",
    "plt.show()"
   ]
  },
  {
   "cell_type": "code",
   "execution_count": null,
   "id": "c79de174",
   "metadata": {},
   "outputs": [],
   "source": [
    "[]"
   ]
  },
  {
   "cell_type": "code",
   "execution_count": 33,
   "id": "22cad6b9",
   "metadata": {},
   "outputs": [
    {
     "name": "stdout",
     "output_type": "stream",
     "text": [
      "*** RUNNING VI *** \n",
      "runtime = 0.03 seconds\n",
      "VI mean scores: 0.72\n",
      "converged in 184 iterations\n",
      "runtime = 0.16 seconds\n",
      "VI mean scores: 1.0\n",
      "converged in 217 iterations\n",
      "runtime = 0.61 seconds\n",
      "VI mean scores: 0.94\n",
      "converged in 255 iterations\n",
      "*** RUNNING PI *** \n",
      "runtime = 0.03 seconds\n",
      "PI mean scores: 0.64\n",
      "converged in 6 iterations\n",
      "runtime = 0.16 seconds\n",
      "PI mean scores: 1.0\n",
      "converged in 8 iterations\n",
      "runtime = 0.89 seconds\n",
      "PI mean scores: 0.9\n",
      "converged in 10 iterations\n",
      "*** RUNNING QL *** \n"
     ]
    },
    {
     "name": "stderr",
     "output_type": "stream",
     "text": [
      "                                                                                                                      \r"
     ]
    },
    {
     "name": "stdout",
     "output_type": "stream",
     "text": [
      "runtime = 31.07 seconds\n",
      "QL mean scores: 0.68\n"
     ]
    },
    {
     "name": "stderr",
     "output_type": "stream",
     "text": [
      "                                                                                                                      \r"
     ]
    },
    {
     "ename": "KeyboardInterrupt",
     "evalue": "",
     "output_type": "error",
     "traceback": [
      "\u001b[1;31m---------------------------------------------------------------------------\u001b[0m",
      "\u001b[1;31mKeyboardInterrupt\u001b[0m                         Traceback (most recent call last)",
      "Cell \u001b[1;32mIn[33], line 41\u001b[0m\n\u001b[0;32m     39\u001b[0m \u001b[38;5;28;01mfor\u001b[39;00m frozen_lake \u001b[38;5;129;01min\u001b[39;00m lakes_whws:\n\u001b[0;32m     40\u001b[0m     shape(frozen_lake)\n\u001b[1;32m---> 41\u001b[0m     Q, V, pi, Q_track, pi_track \u001b[38;5;241m=\u001b[39m RL(frozen_lake)\u001b[38;5;241m.\u001b[39mq_learning(\n\u001b[0;32m     42\u001b[0m         gamma\u001b[38;5;241m=\u001b[39m\u001b[38;5;241m.8\u001b[39m, init_alpha\u001b[38;5;241m=\u001b[39m\u001b[38;5;241m0.6\u001b[39m, min_alpha\u001b[38;5;241m=\u001b[39m\u001b[38;5;241m0.1\u001b[39m, alpha_decay_ratio\u001b[38;5;241m=\u001b[39m\u001b[38;5;241m0.99\u001b[39m, \n\u001b[0;32m     43\u001b[0m         init_epsilon\u001b[38;5;241m=\u001b[39m\u001b[38;5;241m1.0\u001b[39m, min_epsilon\u001b[38;5;241m=\u001b[39m\u001b[38;5;241m0.01\u001b[39m, epsilon_decay_ratio\u001b[38;5;241m=\u001b[39m\u001b[38;5;241m0.995\u001b[39m, n_episodes\u001b[38;5;241m=\u001b[39m\u001b[38;5;241m100000\u001b[39m)\n\u001b[0;32m     45\u001b[0m     unshape(frozen_lake)\n\u001b[0;32m     46\u001b[0m     q_diffs\u001b[38;5;241m.\u001b[39mappend(q_diff(Q_track))\n",
      "File \u001b[1;32m~\\anaconda3\\Lib\\site-packages\\bettermdptools\\utils\\decorators.py:9\u001b[0m, in \u001b[0;36mprint_runtime.<locals>.wrapper_print_runtime\u001b[1;34m(*args, **kwargs)\u001b[0m\n\u001b[0;32m      6\u001b[0m \u001b[38;5;129m@functools\u001b[39m\u001b[38;5;241m.\u001b[39mwraps(func)\n\u001b[0;32m      7\u001b[0m \u001b[38;5;28;01mdef\u001b[39;00m \u001b[38;5;21mwrapper_print_runtime\u001b[39m(\u001b[38;5;241m*\u001b[39margs, \u001b[38;5;241m*\u001b[39m\u001b[38;5;241m*\u001b[39mkwargs):\n\u001b[0;32m      8\u001b[0m     start \u001b[38;5;241m=\u001b[39m time\u001b[38;5;241m.\u001b[39mtime()\n\u001b[1;32m----> 9\u001b[0m     value \u001b[38;5;241m=\u001b[39m func(\u001b[38;5;241m*\u001b[39margs, \u001b[38;5;241m*\u001b[39m\u001b[38;5;241m*\u001b[39mkwargs)\n\u001b[0;32m     10\u001b[0m     end \u001b[38;5;241m=\u001b[39m time\u001b[38;5;241m.\u001b[39mtime()\n\u001b[0;32m     11\u001b[0m     running_time \u001b[38;5;241m=\u001b[39m end \u001b[38;5;241m-\u001b[39m start\n",
      "File \u001b[1;32m~\\anaconda3\\Lib\\site-packages\\bettermdptools\\algorithms\\rl.py:177\u001b[0m, in \u001b[0;36mRL.q_learning\u001b[1;34m(self, nS, nA, convert_state_obs, gamma, init_alpha, min_alpha, alpha_decay_ratio, init_epsilon, min_epsilon, epsilon_decay_ratio, n_episodes)\u001b[0m\n\u001b[0;32m    175\u001b[0m     warnings\u001b[38;5;241m.\u001b[39mwarn(\u001b[38;5;124m\"\u001b[39m\u001b[38;5;124mOccasional render has been deprecated by openAI.  Use test_env.py to render.\u001b[39m\u001b[38;5;124m\"\u001b[39m)\n\u001b[0;32m    176\u001b[0m action \u001b[38;5;241m=\u001b[39m select_action(state, Q, epsilons[e])\n\u001b[1;32m--> 177\u001b[0m next_state, reward, terminated, truncated, _ \u001b[38;5;241m=\u001b[39m \u001b[38;5;28mself\u001b[39m\u001b[38;5;241m.\u001b[39menv\u001b[38;5;241m.\u001b[39mstep(action)\n\u001b[0;32m    178\u001b[0m \u001b[38;5;28;01mif\u001b[39;00m truncated:\n\u001b[0;32m    179\u001b[0m     warnings\u001b[38;5;241m.\u001b[39mwarn(\u001b[38;5;124m\"\u001b[39m\u001b[38;5;124mEpisode was truncated.  Bootstrapping 0 reward.\u001b[39m\u001b[38;5;124m\"\u001b[39m)\n",
      "File \u001b[1;32m~\\anaconda3\\Lib\\site-packages\\gymnasium\\wrappers\\time_limit.py:50\u001b[0m, in \u001b[0;36mTimeLimit.step\u001b[1;34m(self, action)\u001b[0m\n\u001b[0;32m     39\u001b[0m \u001b[38;5;28;01mdef\u001b[39;00m \u001b[38;5;21mstep\u001b[39m(\u001b[38;5;28mself\u001b[39m, action):\n\u001b[0;32m     40\u001b[0m \u001b[38;5;250m    \u001b[39m\u001b[38;5;124;03m\"\"\"Steps through the environment and if the number of steps elapsed exceeds ``max_episode_steps`` then truncate.\u001b[39;00m\n\u001b[0;32m     41\u001b[0m \n\u001b[0;32m     42\u001b[0m \u001b[38;5;124;03m    Args:\u001b[39;00m\n\u001b[1;32m   (...)\u001b[0m\n\u001b[0;32m     48\u001b[0m \n\u001b[0;32m     49\u001b[0m \u001b[38;5;124;03m    \"\"\"\u001b[39;00m\n\u001b[1;32m---> 50\u001b[0m     observation, reward, terminated, truncated, info \u001b[38;5;241m=\u001b[39m \u001b[38;5;28mself\u001b[39m\u001b[38;5;241m.\u001b[39menv\u001b[38;5;241m.\u001b[39mstep(action)\n\u001b[0;32m     51\u001b[0m     \u001b[38;5;28mself\u001b[39m\u001b[38;5;241m.\u001b[39m_elapsed_steps \u001b[38;5;241m+\u001b[39m\u001b[38;5;241m=\u001b[39m \u001b[38;5;241m1\u001b[39m\n\u001b[0;32m     53\u001b[0m     \u001b[38;5;28;01mif\u001b[39;00m \u001b[38;5;28mself\u001b[39m\u001b[38;5;241m.\u001b[39m_elapsed_steps \u001b[38;5;241m>\u001b[39m\u001b[38;5;241m=\u001b[39m \u001b[38;5;28mself\u001b[39m\u001b[38;5;241m.\u001b[39m_max_episode_steps:\n",
      "File \u001b[1;32m~\\anaconda3\\Lib\\site-packages\\gymnasium\\wrappers\\order_enforcing.py:37\u001b[0m, in \u001b[0;36mOrderEnforcing.step\u001b[1;34m(self, action)\u001b[0m\n\u001b[0;32m     35\u001b[0m \u001b[38;5;28;01mif\u001b[39;00m \u001b[38;5;129;01mnot\u001b[39;00m \u001b[38;5;28mself\u001b[39m\u001b[38;5;241m.\u001b[39m_has_reset:\n\u001b[0;32m     36\u001b[0m     \u001b[38;5;28;01mraise\u001b[39;00m ResetNeeded(\u001b[38;5;124m\"\u001b[39m\u001b[38;5;124mCannot call env.step() before calling env.reset()\u001b[39m\u001b[38;5;124m\"\u001b[39m)\n\u001b[1;32m---> 37\u001b[0m \u001b[38;5;28;01mreturn\u001b[39;00m \u001b[38;5;28mself\u001b[39m\u001b[38;5;241m.\u001b[39menv\u001b[38;5;241m.\u001b[39mstep(action)\n",
      "File \u001b[1;32m~\\anaconda3\\Lib\\site-packages\\gymnasium\\wrappers\\env_checker.py:39\u001b[0m, in \u001b[0;36mPassiveEnvChecker.step\u001b[1;34m(self, action)\u001b[0m\n\u001b[0;32m     37\u001b[0m     \u001b[38;5;28;01mreturn\u001b[39;00m env_step_passive_checker(\u001b[38;5;28mself\u001b[39m\u001b[38;5;241m.\u001b[39menv, action)\n\u001b[0;32m     38\u001b[0m \u001b[38;5;28;01melse\u001b[39;00m:\n\u001b[1;32m---> 39\u001b[0m     \u001b[38;5;28;01mreturn\u001b[39;00m \u001b[38;5;28mself\u001b[39m\u001b[38;5;241m.\u001b[39menv\u001b[38;5;241m.\u001b[39mstep(action)\n",
      "File \u001b[1;32m~\\anaconda3\\Lib\\site-packages\\gymnasium\\envs\\toy_text\\frozen_lake.py:248\u001b[0m, in \u001b[0;36mFrozenLakeEnv.step\u001b[1;34m(self, a)\u001b[0m\n\u001b[0;32m    246\u001b[0m \u001b[38;5;28;01mdef\u001b[39;00m \u001b[38;5;21mstep\u001b[39m(\u001b[38;5;28mself\u001b[39m, a):\n\u001b[0;32m    247\u001b[0m     transitions \u001b[38;5;241m=\u001b[39m \u001b[38;5;28mself\u001b[39m\u001b[38;5;241m.\u001b[39mP[\u001b[38;5;28mself\u001b[39m\u001b[38;5;241m.\u001b[39ms][a]\n\u001b[1;32m--> 248\u001b[0m     i \u001b[38;5;241m=\u001b[39m categorical_sample([t[\u001b[38;5;241m0\u001b[39m] \u001b[38;5;28;01mfor\u001b[39;00m t \u001b[38;5;129;01min\u001b[39;00m transitions], \u001b[38;5;28mself\u001b[39m\u001b[38;5;241m.\u001b[39mnp_random)\n\u001b[0;32m    249\u001b[0m     p, s, r, t \u001b[38;5;241m=\u001b[39m transitions[i]\n\u001b[0;32m    250\u001b[0m     \u001b[38;5;28mself\u001b[39m\u001b[38;5;241m.\u001b[39ms \u001b[38;5;241m=\u001b[39m s\n",
      "File \u001b[1;32m~\\anaconda3\\Lib\\site-packages\\gymnasium\\envs\\toy_text\\utils.py:8\u001b[0m, in \u001b[0;36mcategorical_sample\u001b[1;34m(prob_n, np_random)\u001b[0m\n\u001b[0;32m      6\u001b[0m prob_n \u001b[38;5;241m=\u001b[39m np\u001b[38;5;241m.\u001b[39masarray(prob_n)\n\u001b[0;32m      7\u001b[0m csprob_n \u001b[38;5;241m=\u001b[39m np\u001b[38;5;241m.\u001b[39mcumsum(prob_n)\n\u001b[1;32m----> 8\u001b[0m \u001b[38;5;28;01mreturn\u001b[39;00m np\u001b[38;5;241m.\u001b[39margmax(csprob_n \u001b[38;5;241m>\u001b[39m np_random\u001b[38;5;241m.\u001b[39mrandom())\n",
      "File \u001b[1;32m<__array_function__ internals>:200\u001b[0m, in \u001b[0;36margmax\u001b[1;34m(*args, **kwargs)\u001b[0m\n",
      "File \u001b[1;32m~\\anaconda3\\Lib\\site-packages\\numpy\\core\\fromnumeric.py:1242\u001b[0m, in \u001b[0;36margmax\u001b[1;34m(a, axis, out, keepdims)\u001b[0m\n\u001b[0;32m   1155\u001b[0m \u001b[38;5;250m\u001b[39m\u001b[38;5;124;03m\"\"\"\u001b[39;00m\n\u001b[0;32m   1156\u001b[0m \u001b[38;5;124;03mReturns the indices of the maximum values along an axis.\u001b[39;00m\n\u001b[0;32m   1157\u001b[0m \n\u001b[1;32m   (...)\u001b[0m\n\u001b[0;32m   1239\u001b[0m \u001b[38;5;124;03m(2, 1, 4)\u001b[39;00m\n\u001b[0;32m   1240\u001b[0m \u001b[38;5;124;03m\"\"\"\u001b[39;00m\n\u001b[0;32m   1241\u001b[0m kwds \u001b[38;5;241m=\u001b[39m {\u001b[38;5;124m'\u001b[39m\u001b[38;5;124mkeepdims\u001b[39m\u001b[38;5;124m'\u001b[39m: keepdims} \u001b[38;5;28;01mif\u001b[39;00m keepdims \u001b[38;5;129;01mis\u001b[39;00m \u001b[38;5;129;01mnot\u001b[39;00m np\u001b[38;5;241m.\u001b[39m_NoValue \u001b[38;5;28;01melse\u001b[39;00m {}\n\u001b[1;32m-> 1242\u001b[0m \u001b[38;5;28;01mreturn\u001b[39;00m _wrapfunc(a, \u001b[38;5;124m'\u001b[39m\u001b[38;5;124margmax\u001b[39m\u001b[38;5;124m'\u001b[39m, axis\u001b[38;5;241m=\u001b[39maxis, out\u001b[38;5;241m=\u001b[39mout, \u001b[38;5;241m*\u001b[39m\u001b[38;5;241m*\u001b[39mkwds)\n",
      "File \u001b[1;32m~\\anaconda3\\Lib\\site-packages\\numpy\\core\\fromnumeric.py:57\u001b[0m, in \u001b[0;36m_wrapfunc\u001b[1;34m(obj, method, *args, **kwds)\u001b[0m\n\u001b[0;32m     54\u001b[0m     \u001b[38;5;28;01mreturn\u001b[39;00m _wrapit(obj, method, \u001b[38;5;241m*\u001b[39margs, \u001b[38;5;241m*\u001b[39m\u001b[38;5;241m*\u001b[39mkwds)\n\u001b[0;32m     56\u001b[0m \u001b[38;5;28;01mtry\u001b[39;00m:\n\u001b[1;32m---> 57\u001b[0m     \u001b[38;5;28;01mreturn\u001b[39;00m bound(\u001b[38;5;241m*\u001b[39margs, \u001b[38;5;241m*\u001b[39m\u001b[38;5;241m*\u001b[39mkwds)\n\u001b[0;32m     58\u001b[0m \u001b[38;5;28;01mexcept\u001b[39;00m \u001b[38;5;167;01mTypeError\u001b[39;00m:\n\u001b[0;32m     59\u001b[0m     \u001b[38;5;66;03m# A TypeError occurs if the object does have such a method in its\u001b[39;00m\n\u001b[0;32m     60\u001b[0m     \u001b[38;5;66;03m# class, but its signature is not identical to that of NumPy's. This\u001b[39;00m\n\u001b[1;32m   (...)\u001b[0m\n\u001b[0;32m     64\u001b[0m     \u001b[38;5;66;03m# Call _wrapit from within the except clause to ensure a potential\u001b[39;00m\n\u001b[0;32m     65\u001b[0m     \u001b[38;5;66;03m# exception has a traceback chain.\u001b[39;00m\n\u001b[0;32m     66\u001b[0m     \u001b[38;5;28;01mreturn\u001b[39;00m _wrapit(obj, method, \u001b[38;5;241m*\u001b[39margs, \u001b[38;5;241m*\u001b[39m\u001b[38;5;241m*\u001b[39mkwds)\n",
      "\u001b[1;31mKeyboardInterrupt\u001b[0m: "
     ]
    }
   ],
   "source": [
    "# SLIPPING HOLES  REWARD SHAPING\n",
    "\n",
    "vi_diffs = []\n",
    "pi_diffs = []\n",
    "q_diffs = []\n",
    "\n",
    "print(\"*** RUNNING VI *** \")\n",
    "\n",
    "for frozen_lake in lakes_whws:\n",
    "    shape(frozen_lake)\n",
    "    V, V_track, pi = Planner(frozen_lake.P).value_iteration(\n",
    "    gamma=.9, n_iters=10000, theta=1e-12)\n",
    "    \n",
    "    vi_diffs.append(diff_arr(V_track))\n",
    "    \n",
    "    unshape(frozen_lake)\n",
    "    #test policy\n",
    "    test_scores = TestEnv.test_env(env=frozen_lake, n_iters=100, render=False, pi=pi, user_input=False)\n",
    "    print(\"VI mean scores:\", np.mean(test_scores))\n",
    "    iter_count(V_track, 1e-12) \n",
    "    \n",
    "print(\"*** RUNNING PI *** \")\n",
    "\n",
    "for frozen_lake in lakes_whws:\n",
    "    shape(frozen_lake)\n",
    "    V, V_track, pi = Planner(frozen_lake.P).policy_iteration(\n",
    "    gamma=.9, n_iters=10000, theta=1e-12)\n",
    "    unshape(frozen_lake)\n",
    "    \n",
    "    pi_diffs.append(diff_arr(V_track))\n",
    "\n",
    "    #test policy\n",
    "    test_scores = TestEnv.test_env(env=frozen_lake, n_iters=100, render=False, pi=pi, user_input=False)\n",
    "    print(\"PI mean scores:\", np.mean(test_scores))\n",
    "    iter_count(V_track, 1e-12)\n",
    "\n",
    "print(\"*** RUNNING QL *** \")\n",
    "\n",
    "for frozen_lake in lakes_whws:\n",
    "    shape(frozen_lake)\n",
    "    Q, V, pi, Q_track, pi_track = RL(frozen_lake).q_learning(\n",
    "        gamma=.8, init_alpha=0.6, min_alpha=0.1, alpha_decay_ratio=0.99, \n",
    "        init_epsilon=1.0, min_epsilon=0.01, epsilon_decay_ratio=0.995, n_episodes=100000)\n",
    "    \n",
    "    unshape(frozen_lake)\n",
    "    q_diffs.append(q_diff(Q_track))\n",
    "\n",
    "    #test policy\n",
    "    test_scores = TestEnv.test_env(env=frozen_lake, n_iters=100, render=False, pi=pi, user_input=False)\n",
    "    print(\"QL mean scores:\", np.mean(test_scores))"
   ]
  },
  {
   "cell_type": "code",
   "execution_count": 62,
   "id": "eb0c1547",
   "metadata": {},
   "outputs": [
    {
     "name": "stderr",
     "output_type": "stream",
     "text": [
      "                                                                                                                      \r"
     ]
    },
    {
     "name": "stdout",
     "output_type": "stream",
     "text": [
      "runtime = 6.02 seconds\n",
      "QL mean scores: 1.0\n"
     ]
    },
    {
     "name": "stderr",
     "output_type": "stream",
     "text": [
      "                                                                                                                      \r"
     ]
    },
    {
     "name": "stdout",
     "output_type": "stream",
     "text": [
      "runtime = 14.98 seconds\n",
      "QL mean scores: 0.41\n"
     ]
    },
    {
     "name": "stderr",
     "output_type": "stream",
     "text": [
      "                                                                                                                      \r"
     ]
    },
    {
     "name": "stdout",
     "output_type": "stream",
     "text": [
      "runtime = 24.85 seconds\n",
      "QL mean scores: 0.0\n"
     ]
    }
   ],
   "source": [
    "for frozen_lake in lakes_whws:\n",
    "    shape(frozen_lake)\n",
    "    Q, V, pi, Q_track, pi_track = RL(frozen_lake).q_learning(\n",
    "        gamma=.99, init_alpha=0.5, min_alpha=0.1, alpha_decay_ratio=0.9, \n",
    "        init_epsilon=1.0, min_epsilon=0.01, epsilon_decay_ratio=0.99, n_episodes=10000)\n",
    "    \n",
    "    unshape(frozen_lake)\n",
    "    q_diffs.append(q_diff(Q_track))\n",
    "\n",
    "    #test policy\n",
    "    test_scores = TestEnv.test_env(env=frozen_lake, n_iters=100, render=False, pi=pi, user_input=False)\n",
    "    print(\"QL mean scores:\", np.mean(test_scores))"
   ]
  },
  {
   "cell_type": "code",
   "execution_count": 63,
   "id": "b133fbdc",
   "metadata": {},
   "outputs": [
    {
     "data": {
      "image/png": "[encoded data removed]",
      "text/plain": [
       "<Figure size 640x480 with 1 Axes>"
      ]
     },
     "metadata": {},
     "output_type": "display_data"
    }
   ],
   "source": [
    "# TIMES PLOT WITH HOLE WITH SLIP\n",
    "species = (\"VI\", \"PI\", \"QL\")\n",
    "penguin_means = {\n",
    "    '5x5': (.11, .25, 6.02),\n",
    "    '10x10': (.62, 1.22, 14.98),\n",
    "    '20x20': (3.61, 6.82, 24.85),\n",
    "}\n",
    "\n",
    "x = np.arange(len(species))  # the label locations\n",
    "width = 0.25  # the width of the bars\n",
    "multiplier = 0\n",
    "\n",
    "fig, ax = plt.subplots(layout='constrained')\n",
    "\n",
    "for attribute, measurement in penguin_means.items():\n",
    "    offset = width * multiplier\n",
    "    rects = ax.bar(x + offset, measurement, width, label=attribute)\n",
    "    ax.bar_label(rects, padding=3)\n",
    "    multiplier += 1\n",
    "\n",
    "# Add some text for labels, title and custom x-axis tick labels, etc.\n",
    "ax.set_ylabel('time (seconds)')\n",
    "ax.set_title('Frozen Lake training times with reward shaping (with holes with slipping)')\n",
    "ax.set_xticks(x + width, species)\n",
    "ax.legend(loc='upper left', ncols=3)\n",
    "\n",
    "plt.show()"
   ]
  },
  {
   "cell_type": "code",
   "execution_count": 64,
   "id": "865e5dac",
   "metadata": {},
   "outputs": [
    {
     "data": {
      "image/png": "[encoded data removed]",
      "text/plain": [
       "<Figure size 640x480 with 1 Axes>"
      ]
     },
     "metadata": {},
     "output_type": "display_data"
    }
   ],
   "source": [
    "\n",
    "# Plot convergence with holes with slip with shaping\n",
    "\n",
    "species = (\"VI\", \"PI\")\n",
    "penguin_means = {\n",
    "    '5x5': (528, 10),\n",
    "    '10x10': (877, 7),\n",
    "    '20x20': (1325, 10),\n",
    "}\n",
    "\n",
    "x = np.arange(len(species))  # the label locations\n",
    "width = 0.25  # the width of the bars\n",
    "multiplier = 0\n",
    "\n",
    "fig, ax = plt.subplots(layout='constrained')\n",
    "\n",
    "for attribute, measurement in penguin_means.items():\n",
    "    offset = width * multiplier\n",
    "    rects = ax.bar(x + offset, measurement, width, label=attribute)\n",
    "    ax.bar_label(rects, padding=3)\n",
    "    multiplier += 1\n",
    "\n",
    "# Add some text for labels, title and custom x-axis tick labels, etc.\n",
    "ax.set_ylabel('iters')\n",
    "ax.set_title('Frozen Lake iterations to convergence reward shaping (with holes with slipping)')\n",
    "ax.set_xticks(x + width, species)\n",
    "ax.legend(loc='upper right', ncols=3)\n",
    "\n",
    "plt.show()"
   ]
  },
  {
   "cell_type": "code",
   "execution_count": null,
   "id": "1e522d09",
   "metadata": {},
   "outputs": [],
   "source": [
    "# SLIPPING HOLES  REWARD SHAPING\n",
    "\n",
    "vi_diffs = []\n",
    "pi_diffs = []\n",
    "q_diffs = []\n",
    "\n",
    "print(\"*** RUNNING VI *** \")\n",
    "\n",
    "for frozen_lake in lakes_whws:\n",
    "    shape(frozen_lake)\n",
    "    V, V_track, pi = Planner(frozen_lake.P).value_iteration(\n",
    "    gamma=.9, n_iters=10000, theta=1e-12)\n",
    "    \n",
    "    vi_diffs.append(diff_arr(V_track))\n",
    "    \n",
    "    unshape(frozen_lake)\n",
    "    #test policy\n",
    "    test_scores = TestEnv.test_env(env=frozen_lake, n_iters=100, render=False, pi=pi, user_input=False)\n",
    "    print(\"VI mean scores:\", np.mean(test_scores))\n",
    "    iter_count(V_track, 1e-12) \n",
    "    \n",
    "print(\"*** RUNNING PI *** \")\n",
    "\n",
    "for frozen_lake in lakes_whws:\n",
    "    shape(frozen_lake)\n",
    "    V, V_track, pi = Planner(frozen_lake.P).policy_iteration(\n",
    "    gamma=.9, n_iters=10000, theta=1e-12)\n",
    "    unshape(frozen_lake)\n",
    "    \n",
    "    pi_diffs.append(diff_arr(V_track))\n",
    "\n",
    "    #test policy\n",
    "    test_scores = TestEnv.test_env(env=frozen_lake, n_iters=100, render=False, pi=pi, user_input=False)\n",
    "    print(\"PI mean scores:\", np.mean(test_scores))\n",
    "    iter_count(V_track, 1e-12)\n",
    "\n",
    "print(\"*** RUNNING QL *** \")\n",
    "\n",
    "for frozen_lake in lakes_whws:\n",
    "    shape(frozen_lake)\n",
    "    Q, V, pi, Q_track, pi_track = RL(frozen_lake).q_learning(\n",
    "        gamma=.9, init_alpha=0.5, min_alpha=0.1, alpha_decay_ratio=0.9, \n",
    "        init_epsilon=1.0, min_epsilon=0.01, epsilon_decay_ratio=0.99, n_episodes=10000)\n",
    "    \n",
    "    unshape(frozen_lake)\n",
    "    q_diffs.append(q_diff(Q_track))\n",
    "\n",
    "    #test policy\n",
    "    test_scores = TestEnv.test_env(env=frozen_lake, n_iters=100, render=False, pi=pi, user_input=False)\n",
    "    print(\"QL mean scores:\", np.mean(test_scores))"
   ]
  }
 ],
 "metadata": {
  "kernelspec": {
   "display_name": "Python 3 (ipykernel)",
   "language": "python",
   "name": "python3"
  },
  "language_info": {
   "codemirror_mode": {
    "name": "ipython",
    "version": 3
   },
   "file_extension": ".py",
   "mimetype": "text/x-python",
   "name": "python",
   "nbconvert_exporter": "python",
   "pygments_lexer": "ipython3",
   "version": "3.11.4"
  }
 },
 "nbformat": 4,
 "nbformat_minor": 5
}
